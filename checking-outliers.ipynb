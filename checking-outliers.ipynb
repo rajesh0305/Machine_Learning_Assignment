{
 "cells": [
  {
   "cell_type": "code",
   "execution_count": 1,
   "id": "cb049f6c",
   "metadata": {
    "_cell_guid": "b1076dfc-b9ad-4769-8c92-a6c4dae69d19",
    "_uuid": "8f2839f25d086af736a60e9eeb907d3b93b6e0e5",
    "execution": {
     "iopub.execute_input": "2025-01-31T05:11:09.093193Z",
     "iopub.status.busy": "2025-01-31T05:11:09.092693Z",
     "iopub.status.idle": "2025-01-31T05:11:10.049241Z",
     "shell.execute_reply": "2025-01-31T05:11:10.048115Z"
    },
    "papermill": {
     "duration": 0.965142,
     "end_time": "2025-01-31T05:11:10.051332",
     "exception": false,
     "start_time": "2025-01-31T05:11:09.086190",
     "status": "completed"
    },
    "tags": []
   },
   "outputs": [],
   "source": [
    "# This Python 3 environment comes with many helpful analytics libraries installed\n",
    "# It is defined by the kaggle/python Docker image: https://github.com/kaggle/docker-python\n",
    "# For example, here's several helpful packages to load\n",
    "\n",
    "import numpy as np # linear algebra\n",
    "import pandas as pd # data processing, CSV file I/O (e.g. pd.read_csv)\n",
    "\n",
    "# Input data files are available in the read-only \"../input/\" directory\n",
    "# For example, running this (by clicking run or pressing Shift+Enter) will list all files under the input directory\n",
    "\n",
    "import os\n",
    "for dirname, _, filenames in os.walk('/kaggle/input'):\n",
    "    for filename in filenames:\n",
    "        print(os.path.join(dirname, filename))\n",
    "\n",
    "# You can write up to 20GB to the current directory (/kaggle/working/) that gets preserved as output when you create a version using \"Save & Run All\" \n",
    "# You can also write temporary files to /kaggle/temp/, but they won't be saved outside of the current session"
   ]
  },
  {
   "cell_type": "markdown",
   "id": "c1dc8fae",
   "metadata": {
    "papermill": {
     "duration": 0.003027,
     "end_time": "2025-01-31T05:11:10.058348",
     "exception": false,
     "start_time": "2025-01-31T05:11:10.055321",
     "status": "completed"
    },
    "tags": []
   },
   "source": [
    "# Outliers detection techniques:\n",
    "\n",
    "1. By using (Mininum,Maximum,Median,Q1,Q3,IQR)\n",
    "2. By using Box Plot"
   ]
  },
  {
   "cell_type": "code",
   "execution_count": 2,
   "id": "dfad0826",
   "metadata": {
    "execution": {
     "iopub.execute_input": "2025-01-31T05:11:10.066293Z",
     "iopub.status.busy": "2025-01-31T05:11:10.065755Z",
     "iopub.status.idle": "2025-01-31T05:11:10.069954Z",
     "shell.execute_reply": "2025-01-31T05:11:10.068929Z"
    },
    "papermill": {
     "duration": 0.009985,
     "end_time": "2025-01-31T05:11:10.071619",
     "exception": false,
     "start_time": "2025-01-31T05:11:10.061634",
     "status": "completed"
    },
    "tags": []
   },
   "outputs": [],
   "source": [
    "import numpy as np"
   ]
  },
  {
   "cell_type": "code",
   "execution_count": 3,
   "id": "464cc108",
   "metadata": {
    "execution": {
     "iopub.execute_input": "2025-01-31T05:11:10.079799Z",
     "iopub.status.busy": "2025-01-31T05:11:10.079433Z",
     "iopub.status.idle": "2025-01-31T05:11:10.091397Z",
     "shell.execute_reply": "2025-01-31T05:11:10.090151Z"
    },
    "papermill": {
     "duration": 0.018066,
     "end_time": "2025-01-31T05:11:10.093286",
     "exception": false,
     "start_time": "2025-01-31T05:11:10.075220",
     "status": "completed"
    },
    "tags": []
   },
   "outputs": [],
   "source": [
    "lst_marks = [45,32,56,75,89,54,32,89,90,87,67,54,45,98,99,67,74]\n",
    "minimum,Q1,median,Q3,maximum =np.quantile(lst_marks,[0,0.25,0.50,0.75,1.0])"
   ]
  },
  {
   "cell_type": "code",
   "execution_count": 4,
   "id": "81af9ebb",
   "metadata": {
    "execution": {
     "iopub.execute_input": "2025-01-31T05:11:10.101490Z",
     "iopub.status.busy": "2025-01-31T05:11:10.101102Z",
     "iopub.status.idle": "2025-01-31T05:11:10.107717Z",
     "shell.execute_reply": "2025-01-31T05:11:10.106603Z"
    },
    "papermill": {
     "duration": 0.012406,
     "end_time": "2025-01-31T05:11:10.109239",
     "exception": false,
     "start_time": "2025-01-31T05:11:10.096833",
     "status": "completed"
    },
    "tags": []
   },
   "outputs": [
    {
     "data": {
      "text/plain": [
       "(32.0, 54.0, 67.0, 89.0, 99.0)"
      ]
     },
     "execution_count": 4,
     "metadata": {},
     "output_type": "execute_result"
    }
   ],
   "source": [
    "minimum,Q1,median,Q3,maximum"
   ]
  },
  {
   "cell_type": "code",
   "execution_count": 5,
   "id": "b81b7633",
   "metadata": {
    "execution": {
     "iopub.execute_input": "2025-01-31T05:11:10.117521Z",
     "iopub.status.busy": "2025-01-31T05:11:10.117125Z",
     "iopub.status.idle": "2025-01-31T05:11:10.122370Z",
     "shell.execute_reply": "2025-01-31T05:11:10.121237Z"
    },
    "papermill": {
     "duration": 0.011304,
     "end_time": "2025-01-31T05:11:10.124206",
     "exception": false,
     "start_time": "2025-01-31T05:11:10.112902",
     "status": "completed"
    },
    "tags": []
   },
   "outputs": [
    {
     "name": "stdout",
     "output_type": "stream",
     "text": [
      "35.0\n"
     ]
    }
   ],
   "source": [
    "IQR = Q3-Q1\n",
    "print(IQR)"
   ]
  },
  {
   "cell_type": "code",
   "execution_count": 6,
   "id": "dc147b1a",
   "metadata": {
    "execution": {
     "iopub.execute_input": "2025-01-31T05:11:10.132789Z",
     "iopub.status.busy": "2025-01-31T05:11:10.132387Z",
     "iopub.status.idle": "2025-01-31T05:11:10.137002Z",
     "shell.execute_reply": "2025-01-31T05:11:10.135757Z"
    },
    "papermill": {
     "duration": 0.010984,
     "end_time": "2025-01-31T05:11:10.138961",
     "exception": false,
     "start_time": "2025-01-31T05:11:10.127977",
     "status": "completed"
    },
    "tags": []
   },
   "outputs": [],
   "source": [
    "lower_fence = Q1-1.5*(IQR)\n",
    "higher_fence = Q3+1.5*(IQR)"
   ]
  },
  {
   "cell_type": "code",
   "execution_count": 7,
   "id": "4e0938e6",
   "metadata": {
    "execution": {
     "iopub.execute_input": "2025-01-31T05:11:10.147595Z",
     "iopub.status.busy": "2025-01-31T05:11:10.147223Z",
     "iopub.status.idle": "2025-01-31T05:11:10.153040Z",
     "shell.execute_reply": "2025-01-31T05:11:10.151735Z"
    },
    "papermill": {
     "duration": 0.012158,
     "end_time": "2025-01-31T05:11:10.154924",
     "exception": false,
     "start_time": "2025-01-31T05:11:10.142766",
     "status": "completed"
    },
    "tags": []
   },
   "outputs": [
    {
     "data": {
      "text/plain": [
       "1.5"
      ]
     },
     "execution_count": 7,
     "metadata": {},
     "output_type": "execute_result"
    }
   ],
   "source": [
    "lower_fence"
   ]
  },
  {
   "cell_type": "code",
   "execution_count": 8,
   "id": "ef048c72",
   "metadata": {
    "execution": {
     "iopub.execute_input": "2025-01-31T05:11:10.163770Z",
     "iopub.status.busy": "2025-01-31T05:11:10.163389Z",
     "iopub.status.idle": "2025-01-31T05:11:10.169037Z",
     "shell.execute_reply": "2025-01-31T05:11:10.167936Z"
    },
    "papermill": {
     "duration": 0.012057,
     "end_time": "2025-01-31T05:11:10.170876",
     "exception": false,
     "start_time": "2025-01-31T05:11:10.158819",
     "status": "completed"
    },
    "tags": []
   },
   "outputs": [
    {
     "data": {
      "text/plain": [
       "141.5"
      ]
     },
     "execution_count": 8,
     "metadata": {},
     "output_type": "execute_result"
    }
   ],
   "source": [
    "higher_fence"
   ]
  },
  {
   "cell_type": "markdown",
   "id": "d4b998ec",
   "metadata": {
    "papermill": {
     "duration": 0.003472,
     "end_time": "2025-01-31T05:11:10.178277",
     "exception": false,
     "start_time": "2025-01-31T05:11:10.174805",
     "status": "completed"
    },
    "tags": []
   },
   "source": [
    "2. By using Box Plot"
   ]
  },
  {
   "cell_type": "code",
   "execution_count": 9,
   "id": "3e0e3cde",
   "metadata": {
    "execution": {
     "iopub.execute_input": "2025-01-31T05:11:10.186896Z",
     "iopub.status.busy": "2025-01-31T05:11:10.186520Z",
     "iopub.status.idle": "2025-01-31T05:11:10.191200Z",
     "shell.execute_reply": "2025-01-31T05:11:10.190098Z"
    },
    "papermill": {
     "duration": 0.01098,
     "end_time": "2025-01-31T05:11:10.192923",
     "exception": false,
     "start_time": "2025-01-31T05:11:10.181943",
     "status": "completed"
    },
    "tags": []
   },
   "outputs": [],
   "source": [
    "lst_marks = [45,32,56,75,89,54,32,89,90,87,67,54,45,98,99,67,74]"
   ]
  },
  {
   "cell_type": "code",
   "execution_count": 10,
   "id": "92c4521a",
   "metadata": {
    "execution": {
     "iopub.execute_input": "2025-01-31T05:11:10.201891Z",
     "iopub.status.busy": "2025-01-31T05:11:10.201501Z",
     "iopub.status.idle": "2025-01-31T05:11:12.142289Z",
     "shell.execute_reply": "2025-01-31T05:11:12.141082Z"
    },
    "papermill": {
     "duration": 1.947363,
     "end_time": "2025-01-31T05:11:12.144241",
     "exception": false,
     "start_time": "2025-01-31T05:11:10.196878",
     "status": "completed"
    },
    "tags": []
   },
   "outputs": [
    {
     "data": {
      "text/plain": [
       "<Axes: >"
      ]
     },
     "execution_count": 10,
     "metadata": {},
     "output_type": "execute_result"
    },
    {
     "data": {
      "image/png": "[encoded data removed]",
      "text/plain": [
       "<Figure size 640x480 with 1 Axes>"
      ]
     },
     "metadata": {},
     "output_type": "display_data"
    }
   ],
   "source": [
    "import seaborn as sns\n",
    "sns.boxplot(lst_marks)"
   ]
  },
  {
   "cell_type": "code",
   "execution_count": 11,
   "id": "e669b87f",
   "metadata": {
    "execution": {
     "iopub.execute_input": "2025-01-31T05:11:12.154313Z",
     "iopub.status.busy": "2025-01-31T05:11:12.153752Z",
     "iopub.status.idle": "2025-01-31T05:11:12.308893Z",
     "shell.execute_reply": "2025-01-31T05:11:12.307813Z"
    },
    "papermill": {
     "duration": 0.162218,
     "end_time": "2025-01-31T05:11:12.310918",
     "exception": false,
     "start_time": "2025-01-31T05:11:12.148700",
     "status": "completed"
    },
    "tags": []
   },
   "outputs": [
    {
     "data": {
      "text/plain": [
       "<Axes: >"
      ]
     },
     "execution_count": 11,
     "metadata": {},
     "output_type": "execute_result"
    },
    {
     "data": {
      "image/png": "[encoded data removed]",
      "text/plain": [
       "<Figure size 640x480 with 1 Axes>"
      ]
     },
     "metadata": {},
     "output_type": "display_data"
    }
   ],
   "source": [
    "lst_marks = [150,160,167,-19,-6,45,32,56,75,89,54,32,89,90,87,67,54,45,98,99,67,74]\n",
    "sns.boxplot(lst_marks)"
   ]
  },
  {
   "cell_type": "code",
   "execution_count": null,
   "id": "97544755",
   "metadata": {
    "papermill": {
     "duration": 0.004318,
     "end_time": "2025-01-31T05:11:12.320018",
     "exception": false,
     "start_time": "2025-01-31T05:11:12.315700",
     "status": "completed"
    },
    "tags": []
   },
   "outputs": [],
   "source": []
  }
 ],
 "metadata": {
  "kaggle": {
   "accelerator": "none",
   "dataSources": [],
   "dockerImageVersionId": 30841,
   "isGpuEnabled": false,
   "isInternetEnabled": true,
   "language": "python",
   "sourceType": "notebook"
  },
  "kernelspec": {
   "display_name": "Python 3",
   "language": "python",
   "name": "python3"
  },
  "language_info": {
   "codemirror_mode": {
    "name": "ipython",
    "version": 3
   },
   "file_extension": ".py",
   "mimetype": "text/x-python",
   "name": "python",
   "nbconvert_exporter": "python",
   "pygments_lexer": "ipython3",
   "version": "3.10.12"
  },
  "papermill": {
   "default_parameters": {},
   "duration": 6.845303,
   "end_time": "2025-01-31T05:11:13.047063",
   "environment_variables": {},
   "exception": null,
   "input_path": "__notebook__.ipynb",
   "output_path": "__notebook__.ipynb",
   "parameters": {},
   "start_time": "2025-01-31T05:11:06.201760",
   "version": "2.6.0"
  }
 },
 "nbformat": 4,
 "nbformat_minor": 5
}
