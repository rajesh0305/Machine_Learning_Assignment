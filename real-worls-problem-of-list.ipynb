{
 "cells": [
  {
   "cell_type": "code",
   "execution_count": 1,
   "id": "c785f533",
   "metadata": {
    "_cell_guid": "b1076dfc-b9ad-4769-8c92-a6c4dae69d19",
    "_uuid": "8f2839f25d086af736a60e9eeb907d3b93b6e0e5",
    "execution": {
     "iopub.execute_input": "2025-01-25T18:03:25.494023Z",
     "iopub.status.busy": "2025-01-25T18:03:25.493508Z",
     "iopub.status.idle": "2025-01-25T18:03:26.524735Z",
     "shell.execute_reply": "2025-01-25T18:03:26.523828Z"
    },
    "papermill": {
     "duration": 1.038557,
     "end_time": "2025-01-25T18:03:26.526738",
     "exception": false,
     "start_time": "2025-01-25T18:03:25.488181",
     "status": "completed"
    },
    "tags": []
   },
   "outputs": [],
   "source": [
    "# This Python 3 environment comes with many helpful analytics libraries installed\n",
    "# It is defined by the kaggle/python Docker image: https://github.com/kaggle/docker-python\n",
    "# For example, here's several helpful packages to load\n",
    "\n",
    "import numpy as np # linear algebra\n",
    "import pandas as pd # data processing, CSV file I/O (e.g. pd.read_csv)\n",
    "\n",
    "# Input data files are available in the read-only \"../input/\" directory\n",
    "# For example, running this (by clicking run or pressing Shift+Enter) will list all files under the input directory\n",
    "\n",
    "import os\n",
    "for dirname, _, filenames in os.walk('/kaggle/input'):\n",
    "    for filename in filenames:\n",
    "        print(os.path.join(dirname, filename))\n",
    "\n",
    "# You can write up to 20GB to the current directory (/kaggle/working/) that gets preserved as output when you create a version using \"Save & Run All\" \n",
    "# You can also write temporary files to /kaggle/temp/, but they won't be saved outside of the current session"
   ]
  },
  {
   "cell_type": "markdown",
   "id": "66939ffe",
   "metadata": {
    "papermill": {
     "duration": 0.002627,
     "end_time": "2025-01-25T18:03:26.532846",
     "exception": false,
     "start_time": "2025-01-25T18:03:26.530219",
     "status": "completed"
    },
    "tags": []
   },
   "source": [
    "# Real-World Example Using List in Python\n",
    "\n",
    "List are one of the most commenly used data structure in python, thanks to their versatility and ease of use . Here are several practical examples that illustrate their use in real-world scenarios "
   ]
  },
  {
   "cell_type": "markdown",
   "id": "c622a3c9",
   "metadata": {
    "papermill": {
     "duration": 0.002442,
     "end_time": "2025-01-25T18:03:26.538101",
     "exception": false,
     "start_time": "2025-01-25T18:03:26.535659",
     "status": "completed"
    },
    "tags": []
   },
   "source": [
    "Example 1. Manage A To Do List\n",
    "\n",
    "* Create a To Do List To Keep Track Of Task"
   ]
  },
  {
   "cell_type": "code",
   "execution_count": 2,
   "id": "bcf88b5a",
   "metadata": {
    "execution": {
     "iopub.execute_input": "2025-01-25T18:03:26.545021Z",
     "iopub.status.busy": "2025-01-25T18:03:26.544485Z",
     "iopub.status.idle": "2025-01-25T18:03:26.551411Z",
     "shell.execute_reply": "2025-01-25T18:03:26.550179Z"
    },
    "papermill": {
     "duration": 0.012306,
     "end_time": "2025-01-25T18:03:26.553076",
     "exception": false,
     "start_time": "2025-01-25T18:03:26.540770",
     "status": "completed"
    },
    "tags": []
   },
   "outputs": [
    {
     "name": "stdout",
     "output_type": "stream",
     "text": [
      "Don't forget to pay the utility bills\n",
      "to_do_list remaning \n",
      "-Buy Groceries\n",
      "-Pay bills\n",
      "-Schedule meeting\n",
      "-Go for a Run\n"
     ]
    }
   ],
   "source": [
    "to_do_list = [\"Buy Groceries\",\"Clean the house\",\"Pay bills\"]\n",
    "#adding to task\n",
    "to_do_list.append(\"Schedule meeting\")\n",
    "to_do_list.append(\"Go for a Run\")\n",
    "\n",
    "#Removing a completed task\n",
    "to_do_list.remove(\"Clean the house\")\n",
    "\n",
    "##Checking if a task is in the list \n",
    "if \"Pay bills\" in to_do_list:\n",
    "    print(\"Don't forget to pay the utility bills\")\n",
    "\n",
    "print(\"to_do_list remaning \")\n",
    "for task in to_do_list:\n",
    "    print(f\"-{task}\")\n",
    "    \n",
    "    \n",
    "    \n"
   ]
  },
  {
   "cell_type": "markdown",
   "id": "a323ea51",
   "metadata": {
    "papermill": {
     "duration": 0.002524,
     "end_time": "2025-01-25T18:03:26.558589",
     "exception": false,
     "start_time": "2025-01-25T18:03:26.556065",
     "status": "completed"
    },
    "tags": []
   },
   "source": [
    "Example 2. Organizing Student Grades\n",
    "\n",
    "* Create a list to store and calculate average grades for the student "
   ]
  },
  {
   "cell_type": "code",
   "execution_count": 3,
   "id": "de2a0fda",
   "metadata": {
    "execution": {
     "iopub.execute_input": "2025-01-25T18:03:26.565365Z",
     "iopub.status.busy": "2025-01-25T18:03:26.565043Z",
     "iopub.status.idle": "2025-01-25T18:03:26.571343Z",
     "shell.execute_reply": "2025-01-25T18:03:26.570335Z"
    },
    "papermill": {
     "duration": 0.011533,
     "end_time": "2025-01-25T18:03:26.572862",
     "exception": false,
     "start_time": "2025-01-25T18:03:26.561329",
     "status": "completed"
    },
    "tags": []
   },
   "outputs": [
    {
     "name": "stdout",
     "output_type": "stream",
     "text": [
      "Average Grades: 88.00\n",
      "Highest Grades:95\n",
      "Lowest_grade:78\n"
     ]
    }
   ],
   "source": [
    "#Organizing student grades \n",
    "grades =[85,92,78,90,88]\n",
    "\n",
    "#adding a new grade\n",
    "grades.append(95)\n",
    "\n",
    "#calculating the average grade\n",
    "average_grade = sum(grades)/len(grades)\n",
    "print(f\"Average Grades: {average_grade:.2f}\")\n",
    "\n",
    "#finding the highest and lowest grades\n",
    "highest_grade =max(grades)\n",
    "lowest_grade = min(grades)\n",
    "print(f\"Highest Grades:{highest_grade}\")\n",
    "print(f\"Lowest_grade:{lowest_grade}\")\n"
   ]
  },
  {
   "cell_type": "markdown",
   "id": "5dc3982d",
   "metadata": {
    "papermill": {
     "duration": 0.002633,
     "end_time": "2025-01-25T18:03:26.578530",
     "exception": false,
     "start_time": "2025-01-25T18:03:26.575897",
     "status": "completed"
    },
    "tags": []
   },
   "source": [
    "Example 3. Managing An Inventory\n",
    "\n",
    "* Use a list to manage inventory item in a store "
   ]
  },
  {
   "cell_type": "code",
   "execution_count": 4,
   "id": "38c00b22",
   "metadata": {
    "execution": {
     "iopub.execute_input": "2025-01-25T18:03:26.585363Z",
     "iopub.status.busy": "2025-01-25T18:03:26.585032Z",
     "iopub.status.idle": "2025-01-25T18:03:26.592446Z",
     "shell.execute_reply": "2025-01-25T18:03:26.591207Z"
    },
    "papermill": {
     "duration": 0.012875,
     "end_time": "2025-01-25T18:03:26.594252",
     "exception": false,
     "start_time": "2025-01-25T18:03:26.581377",
     "status": "completed"
    },
    "tags": []
   },
   "outputs": [
    {
     "name": "stdout",
     "output_type": "stream",
     "text": [
      "orange are in stock.\n",
      "inventory List:\n",
      "--apple\n",
      "--orange\n",
      "--grapes\n",
      "--strawberries\n"
     ]
    }
   ],
   "source": [
    "inventory  = [\"apple\",\"bananas\",\"orange\",\"grapes\"]\n",
    "\n",
    "#adding a new item\n",
    "inventory.append(\"strawberries\")\n",
    "\n",
    "#removing an item that is out of stock\n",
    "inventory.remove(\"bananas\")\n",
    "\n",
    "#checking if an item is in stock \n",
    "item  = \"orange\"\n",
    "if item in inventory:\n",
    "    print(f\"{item} are in stock.\")\n",
    "else:\n",
    "    print(f\"{item} are out of stock.\")\n",
    "\n",
    "#printing the inventory\n",
    "print(\"inventory List:\")\n",
    "for item in inventory:\n",
    "    print(f\"--{item}\")\n"
   ]
  },
  {
   "cell_type": "markdown",
   "id": "08b0cea2",
   "metadata": {
    "papermill": {
     "duration": 0.002647,
     "end_time": "2025-01-25T18:03:26.600088",
     "exception": false,
     "start_time": "2025-01-25T18:03:26.597441",
     "status": "completed"
    },
    "tags": []
   },
   "source": [
    "Example 4. Collecting user Feedback\n",
    "\n",
    "* Use a list to collect and analyze user feedback"
   ]
  },
  {
   "cell_type": "code",
   "execution_count": 5,
   "id": "1241a2a0",
   "metadata": {
    "execution": {
     "iopub.execute_input": "2025-01-25T18:03:26.607071Z",
     "iopub.status.busy": "2025-01-25T18:03:26.606696Z",
     "iopub.status.idle": "2025-01-25T18:03:26.613958Z",
     "shell.execute_reply": "2025-01-25T18:03:26.613057Z"
    },
    "papermill": {
     "duration": 0.012661,
     "end_time": "2025-01-25T18:03:26.615594",
     "exception": false,
     "start_time": "2025-01-25T18:03:26.602933",
     "status": "completed"
    },
    "tags": []
   },
   "outputs": [
    {
     "name": "stdout",
     "output_type": "stream",
     "text": [
      "positive feedback count:2\n",
      "User feedback\n",
      "-Great Service!\n",
      "-very staisfied\n",
      "-could be better\n",
      "-excellent experience\n",
      "-not happy with the service\n"
     ]
    }
   ],
   "source": [
    "#collecting the user feedback\n",
    "feedback =[\"Great Service!\",\"very staisfied\",\"could be better\",\"excellent experience\"]\n",
    "\n",
    "#adding new feedback\n",
    "feedback.append(\"not happy with the service\")\n",
    "\n",
    "#counting specific feedback \n",
    "positive_feedback_count =sum(1 for comment in feedback if \"great\" in comment.lower() or \"excellent \" in comment.lower())\n",
    "print(f\"positive feedback count:{positive_feedback_count}\")\n",
    "\n",
    "#printing all feedback \n",
    "print(\"User feedback\")\n",
    "for comment in feedback:\n",
    "    print(f\"-{comment}\")"
   ]
  },
  {
   "cell_type": "code",
   "execution_count": null,
   "id": "9d82b9c8",
   "metadata": {
    "papermill": {
     "duration": 0.002782,
     "end_time": "2025-01-25T18:03:26.621705",
     "exception": false,
     "start_time": "2025-01-25T18:03:26.618923",
     "status": "completed"
    },
    "tags": []
   },
   "outputs": [],
   "source": []
  }
 ],
 "metadata": {
  "kaggle": {
   "accelerator": "none",
   "dataSources": [],
   "dockerImageVersionId": 30839,
   "isGpuEnabled": false,
   "isInternetEnabled": true,
   "language": "python",
   "sourceType": "notebook"
  },
  "kernelspec": {
   "display_name": "Python 3",
   "language": "python",
   "name": "python3"
  },
  "language_info": {
   "codemirror_mode": {
    "name": "ipython",
    "version": 3
   },
   "file_extension": ".py",
   "mimetype": "text/x-python",
   "name": "python",
   "nbconvert_exporter": "python",
   "pygments_lexer": "ipython3",
   "version": "3.10.12"
  },
  "papermill": {
   "default_parameters": {},
   "duration": 4.611066,
   "end_time": "2025-01-25T18:03:27.244624",
   "environment_variables": {},
   "exception": null,
   "input_path": "__notebook__.ipynb",
   "output_path": "__notebook__.ipynb",
   "parameters": {},
   "start_time": "2025-01-25T18:03:22.633558",
   "version": "2.6.0"
  }
 },
 "nbformat": 4,
 "nbformat_minor": 5
}
