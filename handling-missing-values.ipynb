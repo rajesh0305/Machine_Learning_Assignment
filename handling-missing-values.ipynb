{
 "cells": [
  {
   "cell_type": "code",
   "execution_count": 1,
   "id": "0c43dfdb",
   "metadata": {
    "_cell_guid": "b1076dfc-b9ad-4769-8c92-a6c4dae69d19",
    "_uuid": "8f2839f25d086af736a60e9eeb907d3b93b6e0e5",
    "execution": {
     "iopub.execute_input": "2025-01-30T13:11:12.471136Z",
     "iopub.status.busy": "2025-01-30T13:11:12.470740Z",
     "iopub.status.idle": "2025-01-30T13:11:13.496929Z",
     "shell.execute_reply": "2025-01-30T13:11:13.495788Z"
    },
    "papermill": {
     "duration": 1.034938,
     "end_time": "2025-01-30T13:11:13.498997",
     "exception": false,
     "start_time": "2025-01-30T13:11:12.464059",
     "status": "completed"
    },
    "tags": []
   },
   "outputs": [],
   "source": [
    "# This Python 3 environment comes with many helpful analytics libraries installed\n",
    "# It is defined by the kaggle/python Docker image: https://github.com/kaggle/docker-python\n",
    "# For example, here's several helpful packages to load\n",
    "\n",
    "import numpy as np # linear algebra\n",
    "import pandas as pd # data processing, CSV file I/O (e.g. pd.read_csv)\n",
    "\n",
    "# Input data files are available in the read-only \"../input/\" directory\n",
    "# For example, running this (by clicking run or pressing Shift+Enter) will list all files under the input directory\n",
    "\n",
    "import os\n",
    "for dirname, _, filenames in os.walk('/kaggle/input'):\n",
    "    for filename in filenames:\n",
    "        print(os.path.join(dirname, filename))\n",
    "\n",
    "# You can write up to 20GB to the current directory (/kaggle/working/) that gets preserved as output when you create a version using \"Save & Run All\" \n",
    "# You can also write temporary files to /kaggle/temp/, but they won't be saved outside of the current session"
   ]
  },
  {
   "cell_type": "markdown",
   "id": "3883b225",
   "metadata": {
    "papermill": {
     "duration": 0.004829,
     "end_time": "2025-01-30T13:11:13.509351",
     "exception": false,
     "start_time": "2025-01-30T13:11:13.504522",
     "status": "completed"
    },
    "tags": []
   },
   "source": [
    "# Missing Values\n",
    "\n",
    "Missing values occurs in dataset when some of the information is not stored for a variable There are 3 machanisms.\n",
    "\n"
   ]
  },
  {
   "cell_type": "markdown",
   "id": "b671128a",
   "metadata": {
    "papermill": {
     "duration": 0.004461,
     "end_time": "2025-01-30T13:11:13.518636",
     "exception": false,
     "start_time": "2025-01-30T13:11:13.514175",
     "status": "completed"
    },
    "tags": []
   },
   "source": [
    "1. **Missing Completey at Random,(MCAR)**\n",
    "\n",
    "   Missing completely at random (MCAR) is a type of missing data where the probability of a missing value is not related to any other data in the dataset. This means that there is no systematic reason why some data values are missing.\n",
    "   \n",
    "   Example of MCAR:\n",
    "   * A batch of lab samples was processed incorrectly, causing some participants to have missing laboratory values\n",
    "   *  Data is missing due to test design, failure in observations, or failure in recording observations "
   ]
  },
  {
   "cell_type": "markdown",
   "id": "ec42cb22",
   "metadata": {
    "papermill": {
     "duration": 0.004526,
     "end_time": "2025-01-30T13:11:13.528046",
     "exception": false,
     "start_time": "2025-01-30T13:11:13.523520",
     "status": "completed"
    },
    "tags": []
   },
   "source": [
    "2. **Missing At Random,(MAR)**\n",
    "\n",
    "Missing at random (MAR) occurs when the missingness is not random, but where missingness can be fully accounted for by variables where there is complete information. Since MAR is an assumption that is impossible to verify statistically, we must rely on its substantive reasonableness.\n",
    "\n",
    "An example is that males are less likely to fill in a depression survey but this has nothing to do with their level of depression, after accounting for maleness. Depending on the analysis method, these data can still induce parameter bias in analyses due to the contingent emptiness of cells (male, very high depression may have zero entries). However, if the parameter is estimated with Full Information Maximum Likelihood, MAR will provide asymptotically unbiased estimates"
   ]
  },
  {
   "cell_type": "markdown",
   "id": "36813ca5",
   "metadata": {
    "papermill": {
     "duration": 0.004487,
     "end_time": "2025-01-30T13:11:13.537233",
     "exception": false,
     "start_time": "2025-01-30T13:11:13.532746",
     "status": "completed"
    },
    "tags": []
   },
   "source": [
    "3. **Missing Data not at Random(MNAR)**\n",
    "\n",
    "   Missing Data Not at Random (MNAR)\" refers to a situation in statistics where missing data is not random and is systematically related to the unobserved values, meaning the reason why data is missing is directly linked to the missing information itself, making it the most challenging type of missing data to handle; essentially, the missing values are not randomly distributed but are influenced by the very data that is missing.\n",
    "\n",
    "   **Key points about MNAR:**\n",
    "\n",
    "**Relationship to missingness:**\n",
    "Unlike \"Missing at Random (MAR),\" where missingness depends only on observed data, MNAR implies that the missingness is linked to the unobserved data, creating bias in analysis if not properly addressed.\n",
    "\n",
    "**Example scenario:**\n",
    "Imagine a survey where people with severe depression are more likely to skip questions about their depression level; this creates MNAR because the missing data is directly related to the severity of the unobserved depression level. "
   ]
  },
  {
   "cell_type": "markdown",
   "id": "e0d111b3",
   "metadata": {
    "papermill": {
     "duration": 0.004286,
     "end_time": "2025-01-30T13:11:13.546048",
     "exception": false,
     "start_time": "2025-01-30T13:11:13.541762",
     "status": "completed"
    },
    "tags": []
   },
   "source": [
    "# Example"
   ]
  },
  {
   "cell_type": "code",
   "execution_count": 2,
   "id": "5f3fc3e2",
   "metadata": {
    "execution": {
     "iopub.execute_input": "2025-01-30T13:11:13.556846Z",
     "iopub.status.busy": "2025-01-30T13:11:13.556239Z",
     "iopub.status.idle": "2025-01-30T13:11:15.364989Z",
     "shell.execute_reply": "2025-01-30T13:11:15.363672Z"
    },
    "papermill": {
     "duration": 1.816329,
     "end_time": "2025-01-30T13:11:15.367046",
     "exception": false,
     "start_time": "2025-01-30T13:11:13.550717",
     "status": "completed"
    },
    "tags": []
   },
   "outputs": [],
   "source": [
    "import seaborn as sns"
   ]
  },
  {
   "cell_type": "code",
   "execution_count": 3,
   "id": "0d66333a",
   "metadata": {
    "execution": {
     "iopub.execute_input": "2025-01-30T13:11:15.378409Z",
     "iopub.status.busy": "2025-01-30T13:11:15.377865Z",
     "iopub.status.idle": "2025-01-30T13:11:15.876214Z",
     "shell.execute_reply": "2025-01-30T13:11:15.875164Z"
    },
    "papermill": {
     "duration": 0.505474,
     "end_time": "2025-01-30T13:11:15.877708",
     "exception": false,
     "start_time": "2025-01-30T13:11:15.372234",
     "status": "completed"
    },
    "tags": []
   },
   "outputs": [
    {
     "data": {
      "text/html": [
       "<div>\n",
       "<style scoped>\n",
       "    .dataframe tbody tr th:only-of-type {\n",
       "        vertical-align: middle;\n",
       "    }\n",
       "\n",
       "    .dataframe tbody tr th {\n",
       "        vertical-align: top;\n",
       "    }\n",
       "\n",
       "    .dataframe thead th {\n",
       "        text-align: right;\n",
       "    }\n",
       "</style>\n",
       "<table border=\"1\" class=\"dataframe\">\n",
       "  <thead>\n",
       "    <tr style=\"text-align: right;\">\n",
       "      <th></th>\n",
       "      <th>survived</th>\n",
       "      <th>pclass</th>\n",
       "      <th>sex</th>\n",
       "      <th>age</th>\n",
       "      <th>sibsp</th>\n",
       "      <th>parch</th>\n",
       "      <th>fare</th>\n",
       "      <th>embarked</th>\n",
       "      <th>class</th>\n",
       "      <th>who</th>\n",
       "      <th>adult_male</th>\n",
       "      <th>deck</th>\n",
       "      <th>embark_town</th>\n",
       "      <th>alive</th>\n",
       "      <th>alone</th>\n",
       "    </tr>\n",
       "  </thead>\n",
       "  <tbody>\n",
       "    <tr>\n",
       "      <th>0</th>\n",
       "      <td>0</td>\n",
       "      <td>3</td>\n",
       "      <td>male</td>\n",
       "      <td>22.0</td>\n",
       "      <td>1</td>\n",
       "      <td>0</td>\n",
       "      <td>7.2500</td>\n",
       "      <td>S</td>\n",
       "      <td>Third</td>\n",
       "      <td>man</td>\n",
       "      <td>True</td>\n",
       "      <td>NaN</td>\n",
       "      <td>Southampton</td>\n",
       "      <td>no</td>\n",
       "      <td>False</td>\n",
       "    </tr>\n",
       "    <tr>\n",
       "      <th>1</th>\n",
       "      <td>1</td>\n",
       "      <td>1</td>\n",
       "      <td>female</td>\n",
       "      <td>38.0</td>\n",
       "      <td>1</td>\n",
       "      <td>0</td>\n",
       "      <td>71.2833</td>\n",
       "      <td>C</td>\n",
       "      <td>First</td>\n",
       "      <td>woman</td>\n",
       "      <td>False</td>\n",
       "      <td>C</td>\n",
       "      <td>Cherbourg</td>\n",
       "      <td>yes</td>\n",
       "      <td>False</td>\n",
       "    </tr>\n",
       "    <tr>\n",
       "      <th>2</th>\n",
       "      <td>1</td>\n",
       "      <td>3</td>\n",
       "      <td>female</td>\n",
       "      <td>26.0</td>\n",
       "      <td>0</td>\n",
       "      <td>0</td>\n",
       "      <td>7.9250</td>\n",
       "      <td>S</td>\n",
       "      <td>Third</td>\n",
       "      <td>woman</td>\n",
       "      <td>False</td>\n",
       "      <td>NaN</td>\n",
       "      <td>Southampton</td>\n",
       "      <td>yes</td>\n",
       "      <td>True</td>\n",
       "    </tr>\n",
       "    <tr>\n",
       "      <th>3</th>\n",
       "      <td>1</td>\n",
       "      <td>1</td>\n",
       "      <td>female</td>\n",
       "      <td>35.0</td>\n",
       "      <td>1</td>\n",
       "      <td>0</td>\n",
       "      <td>53.1000</td>\n",
       "      <td>S</td>\n",
       "      <td>First</td>\n",
       "      <td>woman</td>\n",
       "      <td>False</td>\n",
       "      <td>C</td>\n",
       "      <td>Southampton</td>\n",
       "      <td>yes</td>\n",
       "      <td>False</td>\n",
       "    </tr>\n",
       "    <tr>\n",
       "      <th>4</th>\n",
       "      <td>0</td>\n",
       "      <td>3</td>\n",
       "      <td>male</td>\n",
       "      <td>35.0</td>\n",
       "      <td>0</td>\n",
       "      <td>0</td>\n",
       "      <td>8.0500</td>\n",
       "      <td>S</td>\n",
       "      <td>Third</td>\n",
       "      <td>man</td>\n",
       "      <td>True</td>\n",
       "      <td>NaN</td>\n",
       "      <td>Southampton</td>\n",
       "      <td>no</td>\n",
       "      <td>True</td>\n",
       "    </tr>\n",
       "  </tbody>\n",
       "</table>\n",
       "</div>"
      ],
      "text/plain": [
       "   survived  pclass     sex   age  sibsp  parch     fare embarked  class  \\\n",
       "0         0       3    male  22.0      1      0   7.2500        S  Third   \n",
       "1         1       1  female  38.0      1      0  71.2833        C  First   \n",
       "2         1       3  female  26.0      0      0   7.9250        S  Third   \n",
       "3         1       1  female  35.0      1      0  53.1000        S  First   \n",
       "4         0       3    male  35.0      0      0   8.0500        S  Third   \n",
       "\n",
       "     who  adult_male deck  embark_town alive  alone  \n",
       "0    man        True  NaN  Southampton    no  False  \n",
       "1  woman       False    C    Cherbourg   yes  False  \n",
       "2  woman       False  NaN  Southampton   yes   True  \n",
       "3  woman       False    C  Southampton   yes  False  \n",
       "4    man        True  NaN  Southampton    no   True  "
      ]
     },
     "execution_count": 3,
     "metadata": {},
     "output_type": "execute_result"
    }
   ],
   "source": [
    "df=sns.load_dataset('titanic')\n",
    "df.head()"
   ]
  },
  {
   "cell_type": "markdown",
   "id": "8953b896",
   "metadata": {
    "papermill": {
     "duration": 0.005334,
     "end_time": "2025-01-30T13:11:15.888442",
     "exception": false,
     "start_time": "2025-01-30T13:11:15.883108",
     "status": "completed"
    },
    "tags": []
   },
   "source": [
    "1. Checking missing values"
   ]
  },
  {
   "cell_type": "code",
   "execution_count": 4,
   "id": "6fed37ad",
   "metadata": {
    "execution": {
     "iopub.execute_input": "2025-01-30T13:11:15.899838Z",
     "iopub.status.busy": "2025-01-30T13:11:15.899460Z",
     "iopub.status.idle": "2025-01-30T13:11:15.907731Z",
     "shell.execute_reply": "2025-01-30T13:11:15.906886Z"
    },
    "papermill": {
     "duration": 0.015583,
     "end_time": "2025-01-30T13:11:15.909181",
     "exception": false,
     "start_time": "2025-01-30T13:11:15.893598",
     "status": "completed"
    },
    "tags": []
   },
   "outputs": [
    {
     "data": {
      "text/plain": [
       "survived         0\n",
       "pclass           0\n",
       "sex              0\n",
       "age            177\n",
       "sibsp            0\n",
       "parch            0\n",
       "fare             0\n",
       "embarked         2\n",
       "class            0\n",
       "who              0\n",
       "adult_male       0\n",
       "deck           688\n",
       "embark_town      2\n",
       "alive            0\n",
       "alone            0\n",
       "dtype: int64"
      ]
     },
     "execution_count": 4,
     "metadata": {},
     "output_type": "execute_result"
    }
   ],
   "source": [
    "df.isnull().sum()"
   ]
  },
  {
   "cell_type": "code",
   "execution_count": 5,
   "id": "129a1e7b",
   "metadata": {
    "execution": {
     "iopub.execute_input": "2025-01-30T13:11:15.920686Z",
     "iopub.status.busy": "2025-01-30T13:11:15.920354Z",
     "iopub.status.idle": "2025-01-30T13:11:15.925478Z",
     "shell.execute_reply": "2025-01-30T13:11:15.924492Z"
    },
    "papermill": {
     "duration": 0.01241,
     "end_time": "2025-01-30T13:11:15.926777",
     "exception": false,
     "start_time": "2025-01-30T13:11:15.914367",
     "status": "completed"
    },
    "tags": []
   },
   "outputs": [
    {
     "data": {
      "text/plain": [
       "(891, 15)"
      ]
     },
     "execution_count": 5,
     "metadata": {},
     "output_type": "execute_result"
    }
   ],
   "source": [
    "#delete the rows or datapoint to handle missing values \n",
    "df.shape"
   ]
  },
  {
   "cell_type": "code",
   "execution_count": 6,
   "id": "2fba79ca",
   "metadata": {
    "execution": {
     "iopub.execute_input": "2025-01-30T13:11:15.938314Z",
     "iopub.status.busy": "2025-01-30T13:11:15.937993Z",
     "iopub.status.idle": "2025-01-30T13:11:15.949094Z",
     "shell.execute_reply": "2025-01-30T13:11:15.948248Z"
    },
    "papermill": {
     "duration": 0.018585,
     "end_time": "2025-01-30T13:11:15.950597",
     "exception": false,
     "start_time": "2025-01-30T13:11:15.932012",
     "status": "completed"
    },
    "tags": []
   },
   "outputs": [
    {
     "data": {
      "text/plain": [
       "(182, 15)"
      ]
     },
     "execution_count": 6,
     "metadata": {},
     "output_type": "execute_result"
    }
   ],
   "source": [
    "df.dropna().shape"
   ]
  },
  {
   "cell_type": "code",
   "execution_count": 7,
   "id": "f8267112",
   "metadata": {
    "execution": {
     "iopub.execute_input": "2025-01-30T13:11:15.962192Z",
     "iopub.status.busy": "2025-01-30T13:11:15.961860Z",
     "iopub.status.idle": "2025-01-30T13:11:15.978287Z",
     "shell.execute_reply": "2025-01-30T13:11:15.977276Z"
    },
    "papermill": {
     "duration": 0.023876,
     "end_time": "2025-01-30T13:11:15.979811",
     "exception": false,
     "start_time": "2025-01-30T13:11:15.955935",
     "status": "completed"
    },
    "tags": []
   },
   "outputs": [
    {
     "data": {
      "text/html": [
       "<div>\n",
       "<style scoped>\n",
       "    .dataframe tbody tr th:only-of-type {\n",
       "        vertical-align: middle;\n",
       "    }\n",
       "\n",
       "    .dataframe tbody tr th {\n",
       "        vertical-align: top;\n",
       "    }\n",
       "\n",
       "    .dataframe thead th {\n",
       "        text-align: right;\n",
       "    }\n",
       "</style>\n",
       "<table border=\"1\" class=\"dataframe\">\n",
       "  <thead>\n",
       "    <tr style=\"text-align: right;\">\n",
       "      <th></th>\n",
       "      <th>survived</th>\n",
       "      <th>pclass</th>\n",
       "      <th>sex</th>\n",
       "      <th>sibsp</th>\n",
       "      <th>parch</th>\n",
       "      <th>fare</th>\n",
       "      <th>class</th>\n",
       "      <th>who</th>\n",
       "      <th>adult_male</th>\n",
       "      <th>alive</th>\n",
       "      <th>alone</th>\n",
       "    </tr>\n",
       "  </thead>\n",
       "  <tbody>\n",
       "    <tr>\n",
       "      <th>0</th>\n",
       "      <td>0</td>\n",
       "      <td>3</td>\n",
       "      <td>male</td>\n",
       "      <td>1</td>\n",
       "      <td>0</td>\n",
       "      <td>7.2500</td>\n",
       "      <td>Third</td>\n",
       "      <td>man</td>\n",
       "      <td>True</td>\n",
       "      <td>no</td>\n",
       "      <td>False</td>\n",
       "    </tr>\n",
       "    <tr>\n",
       "      <th>1</th>\n",
       "      <td>1</td>\n",
       "      <td>1</td>\n",
       "      <td>female</td>\n",
       "      <td>1</td>\n",
       "      <td>0</td>\n",
       "      <td>71.2833</td>\n",
       "      <td>First</td>\n",
       "      <td>woman</td>\n",
       "      <td>False</td>\n",
       "      <td>yes</td>\n",
       "      <td>False</td>\n",
       "    </tr>\n",
       "    <tr>\n",
       "      <th>2</th>\n",
       "      <td>1</td>\n",
       "      <td>3</td>\n",
       "      <td>female</td>\n",
       "      <td>0</td>\n",
       "      <td>0</td>\n",
       "      <td>7.9250</td>\n",
       "      <td>Third</td>\n",
       "      <td>woman</td>\n",
       "      <td>False</td>\n",
       "      <td>yes</td>\n",
       "      <td>True</td>\n",
       "    </tr>\n",
       "    <tr>\n",
       "      <th>3</th>\n",
       "      <td>1</td>\n",
       "      <td>1</td>\n",
       "      <td>female</td>\n",
       "      <td>1</td>\n",
       "      <td>0</td>\n",
       "      <td>53.1000</td>\n",
       "      <td>First</td>\n",
       "      <td>woman</td>\n",
       "      <td>False</td>\n",
       "      <td>yes</td>\n",
       "      <td>False</td>\n",
       "    </tr>\n",
       "    <tr>\n",
       "      <th>4</th>\n",
       "      <td>0</td>\n",
       "      <td>3</td>\n",
       "      <td>male</td>\n",
       "      <td>0</td>\n",
       "      <td>0</td>\n",
       "      <td>8.0500</td>\n",
       "      <td>Third</td>\n",
       "      <td>man</td>\n",
       "      <td>True</td>\n",
       "      <td>no</td>\n",
       "      <td>True</td>\n",
       "    </tr>\n",
       "    <tr>\n",
       "      <th>...</th>\n",
       "      <td>...</td>\n",
       "      <td>...</td>\n",
       "      <td>...</td>\n",
       "      <td>...</td>\n",
       "      <td>...</td>\n",
       "      <td>...</td>\n",
       "      <td>...</td>\n",
       "      <td>...</td>\n",
       "      <td>...</td>\n",
       "      <td>...</td>\n",
       "      <td>...</td>\n",
       "    </tr>\n",
       "    <tr>\n",
       "      <th>886</th>\n",
       "      <td>0</td>\n",
       "      <td>2</td>\n",
       "      <td>male</td>\n",
       "      <td>0</td>\n",
       "      <td>0</td>\n",
       "      <td>13.0000</td>\n",
       "      <td>Second</td>\n",
       "      <td>man</td>\n",
       "      <td>True</td>\n",
       "      <td>no</td>\n",
       "      <td>True</td>\n",
       "    </tr>\n",
       "    <tr>\n",
       "      <th>887</th>\n",
       "      <td>1</td>\n",
       "      <td>1</td>\n",
       "      <td>female</td>\n",
       "      <td>0</td>\n",
       "      <td>0</td>\n",
       "      <td>30.0000</td>\n",
       "      <td>First</td>\n",
       "      <td>woman</td>\n",
       "      <td>False</td>\n",
       "      <td>yes</td>\n",
       "      <td>True</td>\n",
       "    </tr>\n",
       "    <tr>\n",
       "      <th>888</th>\n",
       "      <td>0</td>\n",
       "      <td>3</td>\n",
       "      <td>female</td>\n",
       "      <td>1</td>\n",
       "      <td>2</td>\n",
       "      <td>23.4500</td>\n",
       "      <td>Third</td>\n",
       "      <td>woman</td>\n",
       "      <td>False</td>\n",
       "      <td>no</td>\n",
       "      <td>False</td>\n",
       "    </tr>\n",
       "    <tr>\n",
       "      <th>889</th>\n",
       "      <td>1</td>\n",
       "      <td>1</td>\n",
       "      <td>male</td>\n",
       "      <td>0</td>\n",
       "      <td>0</td>\n",
       "      <td>30.0000</td>\n",
       "      <td>First</td>\n",
       "      <td>man</td>\n",
       "      <td>True</td>\n",
       "      <td>yes</td>\n",
       "      <td>True</td>\n",
       "    </tr>\n",
       "    <tr>\n",
       "      <th>890</th>\n",
       "      <td>0</td>\n",
       "      <td>3</td>\n",
       "      <td>male</td>\n",
       "      <td>0</td>\n",
       "      <td>0</td>\n",
       "      <td>7.7500</td>\n",
       "      <td>Third</td>\n",
       "      <td>man</td>\n",
       "      <td>True</td>\n",
       "      <td>no</td>\n",
       "      <td>True</td>\n",
       "    </tr>\n",
       "  </tbody>\n",
       "</table>\n",
       "<p>891 rows × 11 columns</p>\n",
       "</div>"
      ],
      "text/plain": [
       "     survived  pclass     sex  sibsp  parch     fare   class    who  \\\n",
       "0           0       3    male      1      0   7.2500   Third    man   \n",
       "1           1       1  female      1      0  71.2833   First  woman   \n",
       "2           1       3  female      0      0   7.9250   Third  woman   \n",
       "3           1       1  female      1      0  53.1000   First  woman   \n",
       "4           0       3    male      0      0   8.0500   Third    man   \n",
       "..        ...     ...     ...    ...    ...      ...     ...    ...   \n",
       "886         0       2    male      0      0  13.0000  Second    man   \n",
       "887         1       1  female      0      0  30.0000   First  woman   \n",
       "888         0       3  female      1      2  23.4500   Third  woman   \n",
       "889         1       1    male      0      0  30.0000   First    man   \n",
       "890         0       3    male      0      0   7.7500   Third    man   \n",
       "\n",
       "     adult_male alive  alone  \n",
       "0          True    no  False  \n",
       "1         False   yes  False  \n",
       "2         False   yes   True  \n",
       "3         False   yes  False  \n",
       "4          True    no   True  \n",
       "..          ...   ...    ...  \n",
       "886        True    no   True  \n",
       "887       False   yes   True  \n",
       "888       False    no  False  \n",
       "889        True   yes   True  \n",
       "890        True    no   True  \n",
       "\n",
       "[891 rows x 11 columns]"
      ]
     },
     "execution_count": 7,
     "metadata": {},
     "output_type": "execute_result"
    }
   ],
   "source": [
    "#column wise delete\n",
    "df.dropna(axis=1)\n",
    "#for permanent deletion of columns we can use inplace=True in dropna() function"
   ]
  },
  {
   "cell_type": "markdown",
   "id": "8f369555",
   "metadata": {
    "papermill": {
     "duration": 0.005136,
     "end_time": "2025-01-30T13:11:15.990603",
     "exception": false,
     "start_time": "2025-01-30T13:11:15.985467",
     "status": "completed"
    },
    "tags": []
   },
   "source": [
    "**Imputation Techniques**"
   ]
  },
  {
   "cell_type": "markdown",
   "id": "7f51fb91",
   "metadata": {
    "papermill": {
     "duration": 0.005246,
     "end_time": "2025-01-30T13:11:16.001180",
     "exception": false,
     "start_time": "2025-01-30T13:11:15.995934",
     "status": "completed"
    },
    "tags": []
   },
   "source": [
    "1. Mean values Imputation\n",
    "\n",
    "   1. Mean Imputation works well when we have normally distributed data."
   ]
  },
  {
   "cell_type": "code",
   "execution_count": 8,
   "id": "252ba7c0",
   "metadata": {
    "execution": {
     "iopub.execute_input": "2025-01-30T13:11:16.013264Z",
     "iopub.status.busy": "2025-01-30T13:11:16.012886Z",
     "iopub.status.idle": "2025-01-30T13:11:16.441665Z",
     "shell.execute_reply": "2025-01-30T13:11:16.440563Z"
    },
    "papermill": {
     "duration": 0.436888,
     "end_time": "2025-01-30T13:11:16.443482",
     "exception": false,
     "start_time": "2025-01-30T13:11:16.006594",
     "status": "completed"
    },
    "tags": []
   },
   "outputs": [
    {
     "name": "stderr",
     "output_type": "stream",
     "text": [
      "/usr/local/lib/python3.10/dist-packages/seaborn/_oldcore.py:1119: FutureWarning: use_inf_as_na option is deprecated and will be removed in a future version. Convert inf values to NaN before operating instead.\n",
      "  with pd.option_context('mode.use_inf_as_na', True):\n"
     ]
    },
    {
     "data": {
      "text/plain": [
       "<seaborn.axisgrid.FacetGrid at 0x7883d3347c70>"
      ]
     },
     "execution_count": 8,
     "metadata": {},
     "output_type": "execute_result"
    },
    {
     "data": {
      "image/png": "[encoded data removed]",
      "text/plain": [
       "<Figure size 500x500 with 1 Axes>"
      ]
     },
     "metadata": {},
     "output_type": "display_data"
    }
   ],
   "source": [
    "sns.displot(df['age'])"
   ]
  },
  {
   "cell_type": "code",
   "execution_count": 9,
   "id": "0bb21855",
   "metadata": {
    "execution": {
     "iopub.execute_input": "2025-01-30T13:11:16.456739Z",
     "iopub.status.busy": "2025-01-30T13:11:16.456368Z",
     "iopub.status.idle": "2025-01-30T13:11:16.723068Z",
     "shell.execute_reply": "2025-01-30T13:11:16.721991Z"
    },
    "papermill": {
     "duration": 0.274982,
     "end_time": "2025-01-30T13:11:16.724586",
     "exception": false,
     "start_time": "2025-01-30T13:11:16.449604",
     "status": "completed"
    },
    "tags": []
   },
   "outputs": [
    {
     "name": "stderr",
     "output_type": "stream",
     "text": [
      "/usr/local/lib/python3.10/dist-packages/seaborn/_oldcore.py:1119: FutureWarning: use_inf_as_na option is deprecated and will be removed in a future version. Convert inf values to NaN before operating instead.\n",
      "  with pd.option_context('mode.use_inf_as_na', True):\n"
     ]
    },
    {
     "data": {
      "text/plain": [
       "<Axes: xlabel='age', ylabel='Count'>"
      ]
     },
     "execution_count": 9,
     "metadata": {},
     "output_type": "execute_result"
    },
    {
     "data": {
      "image/png": "[encoded data removed]",
      "text/plain": [
       "<Figure size 640x480 with 1 Axes>"
      ]
     },
     "metadata": {},
     "output_type": "display_data"
    }
   ],
   "source": [
    "sns.histplot(df['age'],kde = True)"
   ]
  },
  {
   "cell_type": "code",
   "execution_count": 10,
   "id": "af5a27c5",
   "metadata": {
    "execution": {
     "iopub.execute_input": "2025-01-30T13:11:16.739308Z",
     "iopub.status.busy": "2025-01-30T13:11:16.738997Z",
     "iopub.status.idle": "2025-01-30T13:11:16.754739Z",
     "shell.execute_reply": "2025-01-30T13:11:16.753739Z"
    },
    "papermill": {
     "duration": 0.025011,
     "end_time": "2025-01-30T13:11:16.756430",
     "exception": false,
     "start_time": "2025-01-30T13:11:16.731419",
     "status": "completed"
    },
    "tags": []
   },
   "outputs": [
    {
     "name": "stderr",
     "output_type": "stream",
     "text": [
      "/usr/local/lib/python3.10/dist-packages/pandas/io/formats/format.py:1458: RuntimeWarning: invalid value encountered in greater\n",
      "  has_large_values = (abs_vals > 1e6).any()\n",
      "/usr/local/lib/python3.10/dist-packages/pandas/io/formats/format.py:1459: RuntimeWarning: invalid value encountered in less\n",
      "  has_small_values = ((abs_vals < 10 ** (-self.digits)) & (abs_vals > 0)).any()\n",
      "/usr/local/lib/python3.10/dist-packages/pandas/io/formats/format.py:1459: RuntimeWarning: invalid value encountered in greater\n",
      "  has_small_values = ((abs_vals < 10 ** (-self.digits)) & (abs_vals > 0)).any()\n"
     ]
    },
    {
     "data": {
      "text/html": [
       "<div>\n",
       "<style scoped>\n",
       "    .dataframe tbody tr th:only-of-type {\n",
       "        vertical-align: middle;\n",
       "    }\n",
       "\n",
       "    .dataframe tbody tr th {\n",
       "        vertical-align: top;\n",
       "    }\n",
       "\n",
       "    .dataframe thead th {\n",
       "        text-align: right;\n",
       "    }\n",
       "</style>\n",
       "<table border=\"1\" class=\"dataframe\">\n",
       "  <thead>\n",
       "    <tr style=\"text-align: right;\">\n",
       "      <th></th>\n",
       "      <th>age</th>\n",
       "      <th>age_mean</th>\n",
       "    </tr>\n",
       "  </thead>\n",
       "  <tbody>\n",
       "    <tr>\n",
       "      <th>0</th>\n",
       "      <td>22.0</td>\n",
       "      <td>22.000000</td>\n",
       "    </tr>\n",
       "    <tr>\n",
       "      <th>1</th>\n",
       "      <td>38.0</td>\n",
       "      <td>38.000000</td>\n",
       "    </tr>\n",
       "    <tr>\n",
       "      <th>2</th>\n",
       "      <td>26.0</td>\n",
       "      <td>26.000000</td>\n",
       "    </tr>\n",
       "    <tr>\n",
       "      <th>3</th>\n",
       "      <td>35.0</td>\n",
       "      <td>35.000000</td>\n",
       "    </tr>\n",
       "    <tr>\n",
       "      <th>4</th>\n",
       "      <td>35.0</td>\n",
       "      <td>35.000000</td>\n",
       "    </tr>\n",
       "    <tr>\n",
       "      <th>...</th>\n",
       "      <td>...</td>\n",
       "      <td>...</td>\n",
       "    </tr>\n",
       "    <tr>\n",
       "      <th>886</th>\n",
       "      <td>27.0</td>\n",
       "      <td>27.000000</td>\n",
       "    </tr>\n",
       "    <tr>\n",
       "      <th>887</th>\n",
       "      <td>19.0</td>\n",
       "      <td>19.000000</td>\n",
       "    </tr>\n",
       "    <tr>\n",
       "      <th>888</th>\n",
       "      <td>NaN</td>\n",
       "      <td>29.699118</td>\n",
       "    </tr>\n",
       "    <tr>\n",
       "      <th>889</th>\n",
       "      <td>26.0</td>\n",
       "      <td>26.000000</td>\n",
       "    </tr>\n",
       "    <tr>\n",
       "      <th>890</th>\n",
       "      <td>32.0</td>\n",
       "      <td>32.000000</td>\n",
       "    </tr>\n",
       "  </tbody>\n",
       "</table>\n",
       "<p>891 rows × 2 columns</p>\n",
       "</div>"
      ],
      "text/plain": [
       "      age   age_mean\n",
       "0    22.0  22.000000\n",
       "1    38.0  38.000000\n",
       "2    26.0  26.000000\n",
       "3    35.0  35.000000\n",
       "4    35.0  35.000000\n",
       "..    ...        ...\n",
       "886  27.0  27.000000\n",
       "887  19.0  19.000000\n",
       "888   NaN  29.699118\n",
       "889  26.0  26.000000\n",
       "890  32.0  32.000000\n",
       "\n",
       "[891 rows x 2 columns]"
      ]
     },
     "execution_count": 10,
     "metadata": {},
     "output_type": "execute_result"
    }
   ],
   "source": [
    "df['age_mean'] =df['age'].fillna(df['age'].mean())\n",
    "df[['age','age_mean']]"
   ]
  },
  {
   "cell_type": "markdown",
   "id": "befdaec3",
   "metadata": {
    "papermill": {
     "duration": 0.006693,
     "end_time": "2025-01-30T13:11:16.770623",
     "exception": false,
     "start_time": "2025-01-30T13:11:16.763930",
     "status": "completed"
    },
    "tags": []
   },
   "source": [
    "2. **Median Value Imputation**\n",
    "\n",
    "   1. if we outliers in tha dataset."
   ]
  },
  {
   "cell_type": "code",
   "execution_count": 11,
   "id": "4a2f9f38",
   "metadata": {
    "execution": {
     "iopub.execute_input": "2025-01-30T13:11:16.785770Z",
     "iopub.status.busy": "2025-01-30T13:11:16.785411Z",
     "iopub.status.idle": "2025-01-30T13:11:16.800136Z",
     "shell.execute_reply": "2025-01-30T13:11:16.798927Z"
    },
    "papermill": {
     "duration": 0.024123,
     "end_time": "2025-01-30T13:11:16.801562",
     "exception": false,
     "start_time": "2025-01-30T13:11:16.777439",
     "status": "completed"
    },
    "tags": []
   },
   "outputs": [
    {
     "name": "stderr",
     "output_type": "stream",
     "text": [
      "/usr/local/lib/python3.10/dist-packages/pandas/io/formats/format.py:1458: RuntimeWarning: invalid value encountered in greater\n",
      "  has_large_values = (abs_vals > 1e6).any()\n",
      "/usr/local/lib/python3.10/dist-packages/pandas/io/formats/format.py:1459: RuntimeWarning: invalid value encountered in less\n",
      "  has_small_values = ((abs_vals < 10 ** (-self.digits)) & (abs_vals > 0)).any()\n",
      "/usr/local/lib/python3.10/dist-packages/pandas/io/formats/format.py:1459: RuntimeWarning: invalid value encountered in greater\n",
      "  has_small_values = ((abs_vals < 10 ** (-self.digits)) & (abs_vals > 0)).any()\n"
     ]
    },
    {
     "data": {
      "text/html": [
       "<div>\n",
       "<style scoped>\n",
       "    .dataframe tbody tr th:only-of-type {\n",
       "        vertical-align: middle;\n",
       "    }\n",
       "\n",
       "    .dataframe tbody tr th {\n",
       "        vertical-align: top;\n",
       "    }\n",
       "\n",
       "    .dataframe thead th {\n",
       "        text-align: right;\n",
       "    }\n",
       "</style>\n",
       "<table border=\"1\" class=\"dataframe\">\n",
       "  <thead>\n",
       "    <tr style=\"text-align: right;\">\n",
       "      <th></th>\n",
       "      <th>age</th>\n",
       "      <th>age_mean</th>\n",
       "      <th>age_median</th>\n",
       "    </tr>\n",
       "  </thead>\n",
       "  <tbody>\n",
       "    <tr>\n",
       "      <th>0</th>\n",
       "      <td>22.0</td>\n",
       "      <td>22.000000</td>\n",
       "      <td>22.0</td>\n",
       "    </tr>\n",
       "    <tr>\n",
       "      <th>1</th>\n",
       "      <td>38.0</td>\n",
       "      <td>38.000000</td>\n",
       "      <td>38.0</td>\n",
       "    </tr>\n",
       "    <tr>\n",
       "      <th>2</th>\n",
       "      <td>26.0</td>\n",
       "      <td>26.000000</td>\n",
       "      <td>26.0</td>\n",
       "    </tr>\n",
       "    <tr>\n",
       "      <th>3</th>\n",
       "      <td>35.0</td>\n",
       "      <td>35.000000</td>\n",
       "      <td>35.0</td>\n",
       "    </tr>\n",
       "    <tr>\n",
       "      <th>4</th>\n",
       "      <td>35.0</td>\n",
       "      <td>35.000000</td>\n",
       "      <td>35.0</td>\n",
       "    </tr>\n",
       "    <tr>\n",
       "      <th>...</th>\n",
       "      <td>...</td>\n",
       "      <td>...</td>\n",
       "      <td>...</td>\n",
       "    </tr>\n",
       "    <tr>\n",
       "      <th>886</th>\n",
       "      <td>27.0</td>\n",
       "      <td>27.000000</td>\n",
       "      <td>27.0</td>\n",
       "    </tr>\n",
       "    <tr>\n",
       "      <th>887</th>\n",
       "      <td>19.0</td>\n",
       "      <td>19.000000</td>\n",
       "      <td>19.0</td>\n",
       "    </tr>\n",
       "    <tr>\n",
       "      <th>888</th>\n",
       "      <td>NaN</td>\n",
       "      <td>29.699118</td>\n",
       "      <td>28.0</td>\n",
       "    </tr>\n",
       "    <tr>\n",
       "      <th>889</th>\n",
       "      <td>26.0</td>\n",
       "      <td>26.000000</td>\n",
       "      <td>26.0</td>\n",
       "    </tr>\n",
       "    <tr>\n",
       "      <th>890</th>\n",
       "      <td>32.0</td>\n",
       "      <td>32.000000</td>\n",
       "      <td>32.0</td>\n",
       "    </tr>\n",
       "  </tbody>\n",
       "</table>\n",
       "<p>891 rows × 3 columns</p>\n",
       "</div>"
      ],
      "text/plain": [
       "      age   age_mean  age_median\n",
       "0    22.0  22.000000        22.0\n",
       "1    38.0  38.000000        38.0\n",
       "2    26.0  26.000000        26.0\n",
       "3    35.0  35.000000        35.0\n",
       "4    35.0  35.000000        35.0\n",
       "..    ...        ...         ...\n",
       "886  27.0  27.000000        27.0\n",
       "887  19.0  19.000000        19.0\n",
       "888   NaN  29.699118        28.0\n",
       "889  26.0  26.000000        26.0\n",
       "890  32.0  32.000000        32.0\n",
       "\n",
       "[891 rows x 3 columns]"
      ]
     },
     "execution_count": 11,
     "metadata": {},
     "output_type": "execute_result"
    }
   ],
   "source": [
    "df['age_median'] = df['age'].fillna(df['age'].median())\n",
    "df[['age','age_mean','age_median']]"
   ]
  },
  {
   "cell_type": "markdown",
   "id": "299b5565",
   "metadata": {
    "papermill": {
     "duration": 0.007124,
     "end_time": "2025-01-30T13:11:16.816452",
     "exception": false,
     "start_time": "2025-01-30T13:11:16.809328",
     "status": "completed"
    },
    "tags": []
   },
   "source": [
    "3. **Mode Imputation:**\n",
    "\n",
    "   \n",
    "\n",
    "     This can we used for the Categorical variable.\n",
    "\n",
    "     \n",
    "   "
   ]
  },
  {
   "cell_type": "code",
   "execution_count": 12,
   "id": "686dc1b5",
   "metadata": {
    "execution": {
     "iopub.execute_input": "2025-01-30T13:11:16.833689Z",
     "iopub.status.busy": "2025-01-30T13:11:16.833366Z",
     "iopub.status.idle": "2025-01-30T13:11:16.851184Z",
     "shell.execute_reply": "2025-01-30T13:11:16.850067Z"
    },
    "papermill": {
     "duration": 0.028928,
     "end_time": "2025-01-30T13:11:16.852733",
     "exception": false,
     "start_time": "2025-01-30T13:11:16.823805",
     "status": "completed"
    },
    "tags": []
   },
   "outputs": [
    {
     "data": {
      "text/html": [
       "<div>\n",
       "<style scoped>\n",
       "    .dataframe tbody tr th:only-of-type {\n",
       "        vertical-align: middle;\n",
       "    }\n",
       "\n",
       "    .dataframe tbody tr th {\n",
       "        vertical-align: top;\n",
       "    }\n",
       "\n",
       "    .dataframe thead th {\n",
       "        text-align: right;\n",
       "    }\n",
       "</style>\n",
       "<table border=\"1\" class=\"dataframe\">\n",
       "  <thead>\n",
       "    <tr style=\"text-align: right;\">\n",
       "      <th></th>\n",
       "      <th>survived</th>\n",
       "      <th>pclass</th>\n",
       "      <th>sex</th>\n",
       "      <th>age</th>\n",
       "      <th>sibsp</th>\n",
       "      <th>parch</th>\n",
       "      <th>fare</th>\n",
       "      <th>embarked</th>\n",
       "      <th>class</th>\n",
       "      <th>who</th>\n",
       "      <th>adult_male</th>\n",
       "      <th>deck</th>\n",
       "      <th>embark_town</th>\n",
       "      <th>alive</th>\n",
       "      <th>alone</th>\n",
       "      <th>age_mean</th>\n",
       "      <th>age_median</th>\n",
       "    </tr>\n",
       "  </thead>\n",
       "  <tbody>\n",
       "    <tr>\n",
       "      <th>61</th>\n",
       "      <td>1</td>\n",
       "      <td>1</td>\n",
       "      <td>female</td>\n",
       "      <td>38.0</td>\n",
       "      <td>0</td>\n",
       "      <td>0</td>\n",
       "      <td>80.0</td>\n",
       "      <td>NaN</td>\n",
       "      <td>First</td>\n",
       "      <td>woman</td>\n",
       "      <td>False</td>\n",
       "      <td>B</td>\n",
       "      <td>NaN</td>\n",
       "      <td>yes</td>\n",
       "      <td>True</td>\n",
       "      <td>38.0</td>\n",
       "      <td>38.0</td>\n",
       "    </tr>\n",
       "    <tr>\n",
       "      <th>829</th>\n",
       "      <td>1</td>\n",
       "      <td>1</td>\n",
       "      <td>female</td>\n",
       "      <td>62.0</td>\n",
       "      <td>0</td>\n",
       "      <td>0</td>\n",
       "      <td>80.0</td>\n",
       "      <td>NaN</td>\n",
       "      <td>First</td>\n",
       "      <td>woman</td>\n",
       "      <td>False</td>\n",
       "      <td>B</td>\n",
       "      <td>NaN</td>\n",
       "      <td>yes</td>\n",
       "      <td>True</td>\n",
       "      <td>62.0</td>\n",
       "      <td>62.0</td>\n",
       "    </tr>\n",
       "  </tbody>\n",
       "</table>\n",
       "</div>"
      ],
      "text/plain": [
       "     survived  pclass     sex   age  sibsp  parch  fare embarked  class  \\\n",
       "61          1       1  female  38.0      0      0  80.0      NaN  First   \n",
       "829         1       1  female  62.0      0      0  80.0      NaN  First   \n",
       "\n",
       "       who  adult_male deck embark_town alive  alone  age_mean  age_median  \n",
       "61   woman       False    B         NaN   yes   True      38.0        38.0  \n",
       "829  woman       False    B         NaN   yes   True      62.0        62.0  "
      ]
     },
     "execution_count": 12,
     "metadata": {},
     "output_type": "execute_result"
    }
   ],
   "source": [
    "df[df['embarked'].isnull()]"
   ]
  },
  {
   "cell_type": "code",
   "execution_count": 13,
   "id": "edc232d0",
   "metadata": {
    "execution": {
     "iopub.execute_input": "2025-01-30T13:11:16.869296Z",
     "iopub.status.busy": "2025-01-30T13:11:16.868960Z",
     "iopub.status.idle": "2025-01-30T13:11:16.874642Z",
     "shell.execute_reply": "2025-01-30T13:11:16.873837Z"
    },
    "papermill": {
     "duration": 0.015568,
     "end_time": "2025-01-30T13:11:16.876162",
     "exception": false,
     "start_time": "2025-01-30T13:11:16.860594",
     "status": "completed"
    },
    "tags": []
   },
   "outputs": [
    {
     "data": {
      "text/plain": [
       "array(['S', 'C', 'Q', nan], dtype=object)"
      ]
     },
     "execution_count": 13,
     "metadata": {},
     "output_type": "execute_result"
    }
   ],
   "source": [
    "df['embarked'].unique()"
   ]
  },
  {
   "cell_type": "code",
   "execution_count": 14,
   "id": "ab52ebc0",
   "metadata": {
    "execution": {
     "iopub.execute_input": "2025-01-30T13:11:16.892737Z",
     "iopub.status.busy": "2025-01-30T13:11:16.892422Z",
     "iopub.status.idle": "2025-01-30T13:11:16.898426Z",
     "shell.execute_reply": "2025-01-30T13:11:16.897561Z"
    },
    "papermill": {
     "duration": 0.016258,
     "end_time": "2025-01-30T13:11:16.900021",
     "exception": false,
     "start_time": "2025-01-30T13:11:16.883763",
     "status": "completed"
    },
    "tags": []
   },
   "outputs": [],
   "source": [
    "mode_value =df[df['embarked'].notna()]['embarked'].mode()[0]"
   ]
  },
  {
   "cell_type": "code",
   "execution_count": 15,
   "id": "22573127",
   "metadata": {
    "execution": {
     "iopub.execute_input": "2025-01-30T13:11:16.916501Z",
     "iopub.status.busy": "2025-01-30T13:11:16.916205Z",
     "iopub.status.idle": "2025-01-30T13:11:16.926948Z",
     "shell.execute_reply": "2025-01-30T13:11:16.925955Z"
    },
    "papermill": {
     "duration": 0.020554,
     "end_time": "2025-01-30T13:11:16.928416",
     "exception": false,
     "start_time": "2025-01-30T13:11:16.907862",
     "status": "completed"
    },
    "tags": []
   },
   "outputs": [
    {
     "data": {
      "text/html": [
       "<div>\n",
       "<style scoped>\n",
       "    .dataframe tbody tr th:only-of-type {\n",
       "        vertical-align: middle;\n",
       "    }\n",
       "\n",
       "    .dataframe tbody tr th {\n",
       "        vertical-align: top;\n",
       "    }\n",
       "\n",
       "    .dataframe thead th {\n",
       "        text-align: right;\n",
       "    }\n",
       "</style>\n",
       "<table border=\"1\" class=\"dataframe\">\n",
       "  <thead>\n",
       "    <tr style=\"text-align: right;\">\n",
       "      <th></th>\n",
       "      <th>embarked</th>\n",
       "      <th>embarked_mode</th>\n",
       "    </tr>\n",
       "  </thead>\n",
       "  <tbody>\n",
       "    <tr>\n",
       "      <th>0</th>\n",
       "      <td>S</td>\n",
       "      <td>S</td>\n",
       "    </tr>\n",
       "    <tr>\n",
       "      <th>1</th>\n",
       "      <td>C</td>\n",
       "      <td>C</td>\n",
       "    </tr>\n",
       "    <tr>\n",
       "      <th>2</th>\n",
       "      <td>S</td>\n",
       "      <td>S</td>\n",
       "    </tr>\n",
       "    <tr>\n",
       "      <th>3</th>\n",
       "      <td>S</td>\n",
       "      <td>S</td>\n",
       "    </tr>\n",
       "    <tr>\n",
       "      <th>4</th>\n",
       "      <td>S</td>\n",
       "      <td>S</td>\n",
       "    </tr>\n",
       "    <tr>\n",
       "      <th>...</th>\n",
       "      <td>...</td>\n",
       "      <td>...</td>\n",
       "    </tr>\n",
       "    <tr>\n",
       "      <th>886</th>\n",
       "      <td>S</td>\n",
       "      <td>S</td>\n",
       "    </tr>\n",
       "    <tr>\n",
       "      <th>887</th>\n",
       "      <td>S</td>\n",
       "      <td>S</td>\n",
       "    </tr>\n",
       "    <tr>\n",
       "      <th>888</th>\n",
       "      <td>S</td>\n",
       "      <td>S</td>\n",
       "    </tr>\n",
       "    <tr>\n",
       "      <th>889</th>\n",
       "      <td>C</td>\n",
       "      <td>C</td>\n",
       "    </tr>\n",
       "    <tr>\n",
       "      <th>890</th>\n",
       "      <td>Q</td>\n",
       "      <td>Q</td>\n",
       "    </tr>\n",
       "  </tbody>\n",
       "</table>\n",
       "<p>891 rows × 2 columns</p>\n",
       "</div>"
      ],
      "text/plain": [
       "    embarked embarked_mode\n",
       "0          S             S\n",
       "1          C             C\n",
       "2          S             S\n",
       "3          S             S\n",
       "4          S             S\n",
       "..       ...           ...\n",
       "886        S             S\n",
       "887        S             S\n",
       "888        S             S\n",
       "889        C             C\n",
       "890        Q             Q\n",
       "\n",
       "[891 rows x 2 columns]"
      ]
     },
     "execution_count": 15,
     "metadata": {},
     "output_type": "execute_result"
    }
   ],
   "source": [
    "df['embarked_mode'] = df['embarked'].fillna(mode_value)\n",
    "df[['embarked','embarked_mode']]"
   ]
  },
  {
   "cell_type": "code",
   "execution_count": 16,
   "id": "c762e5fc",
   "metadata": {
    "execution": {
     "iopub.execute_input": "2025-01-30T13:11:16.944993Z",
     "iopub.status.busy": "2025-01-30T13:11:16.944606Z",
     "iopub.status.idle": "2025-01-30T13:11:16.950384Z",
     "shell.execute_reply": "2025-01-30T13:11:16.949619Z"
    },
    "papermill": {
     "duration": 0.015628,
     "end_time": "2025-01-30T13:11:16.951849",
     "exception": false,
     "start_time": "2025-01-30T13:11:16.936221",
     "status": "completed"
    },
    "tags": []
   },
   "outputs": [
    {
     "data": {
      "text/plain": [
       "0"
      ]
     },
     "execution_count": 16,
     "metadata": {},
     "output_type": "execute_result"
    }
   ],
   "source": [
    "df['embarked_mode'].isnull().sum()"
   ]
  },
  {
   "cell_type": "code",
   "execution_count": null,
   "id": "eb9bba6e",
   "metadata": {
    "papermill": {
     "duration": 0.007382,
     "end_time": "2025-01-30T13:11:16.966883",
     "exception": false,
     "start_time": "2025-01-30T13:11:16.959501",
     "status": "completed"
    },
    "tags": []
   },
   "outputs": [],
   "source": []
  }
 ],
 "metadata": {
  "kaggle": {
   "accelerator": "none",
   "dataSources": [],
   "dockerImageVersionId": 30839,
   "isGpuEnabled": false,
   "isInternetEnabled": true,
   "language": "python",
   "sourceType": "notebook"
  },
  "kernelspec": {
   "display_name": "Python 3",
   "language": "python",
   "name": "python3"
  },
  "language_info": {
   "codemirror_mode": {
    "name": "ipython",
    "version": 3
   },
   "file_extension": ".py",
   "mimetype": "text/x-python",
   "name": "python",
   "nbconvert_exporter": "python",
   "pygments_lexer": "ipython3",
   "version": "3.10.12"
  },
  "papermill": {
   "default_parameters": {},
   "duration": 7.851643,
   "end_time": "2025-01-30T13:11:17.593412",
   "environment_variables": {},
   "exception": null,
   "input_path": "__notebook__.ipynb",
   "output_path": "__notebook__.ipynb",
   "parameters": {},
   "start_time": "2025-01-30T13:11:09.741769",
   "version": "2.6.0"
  }
 },
 "nbformat": 4,
 "nbformat_minor": 5
}
