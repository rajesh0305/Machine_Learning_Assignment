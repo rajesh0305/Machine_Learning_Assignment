{
 "cells": [
  {
   "cell_type": "code",
   "execution_count": 1,
   "id": "f71cd660",
   "metadata": {
    "_cell_guid": "b1076dfc-b9ad-4769-8c92-a6c4dae69d19",
    "_uuid": "8f2839f25d086af736a60e9eeb907d3b93b6e0e5",
    "execution": {
     "iopub.execute_input": "2025-01-24T13:00:35.373543Z",
     "iopub.status.busy": "2025-01-24T13:00:35.373213Z",
     "iopub.status.idle": "2025-01-24T13:00:36.239488Z",
     "shell.execute_reply": "2025-01-24T13:00:36.238352Z"
    },
    "papermill": {
     "duration": 0.876938,
     "end_time": "2025-01-24T13:00:36.241285",
     "exception": false,
     "start_time": "2025-01-24T13:00:35.364347",
     "status": "completed"
    },
    "tags": []
   },
   "outputs": [],
   "source": [
    "# This Python 3 environment comes with many helpful analytics libraries installed\n",
    "# It is defined by the kaggle/python Docker image: https://github.com/kaggle/docker-python\n",
    "# For example, here's several helpful packages to load\n",
    "\n",
    "import numpy as np # linear algebra\n",
    "import pandas as pd # data processing, CSV file I/O (e.g. pd.read_csv)\n",
    "\n",
    "# Input data files are available in the read-only \"../input/\" directory\n",
    "# For example, running this (by clicking run or pressing Shift+Enter) will list all files under the input directory\n",
    "\n",
    "import os\n",
    "for dirname, _, filenames in os.walk('/kaggle/input'):\n",
    "    for filename in filenames:\n",
    "        print(os.path.join(dirname, filename))\n",
    "\n",
    "# You can write up to 20GB to the current directory (/kaggle/working/) that gets preserved as output when you create a version using \"Save & Run All\" \n",
    "# You can also write temporary files to /kaggle/temp/, but they won't be saved outside of the current session"
   ]
  },
  {
   "cell_type": "markdown",
   "id": "5ea07467",
   "metadata": {
    "papermill": {
     "duration": 0.006114,
     "end_time": "2025-01-24T13:00:36.253924",
     "exception": false,
     "start_time": "2025-01-24T13:00:36.247810",
     "status": "completed"
    },
    "tags": []
   },
   "source": [
    "# List\n",
    "\n",
    "* List are ordered ,mutable collection of items\n",
    "* They can contains items of different data items\n",
    "1. creating list\n",
    "2. accessing list element\n",
    "3. modifying list element\n",
    "4. list methods\n",
    "5. slicing list\n",
    "6. iterating over list\n",
    "7. list comprehensions\n",
    "8. nested list\n",
    "9. examples \n"
   ]
  },
  {
   "cell_type": "code",
   "execution_count": 2,
   "id": "9a5446a5",
   "metadata": {
    "execution": {
     "iopub.execute_input": "2025-01-24T13:00:36.267112Z",
     "iopub.status.busy": "2025-01-24T13:00:36.266587Z",
     "iopub.status.idle": "2025-01-24T13:00:36.272089Z",
     "shell.execute_reply": "2025-01-24T13:00:36.270905Z"
    },
    "papermill": {
     "duration": 0.013816,
     "end_time": "2025-01-24T13:00:36.273799",
     "exception": false,
     "start_time": "2025-01-24T13:00:36.259983",
     "status": "completed"
    },
    "tags": []
   },
   "outputs": [
    {
     "name": "stdout",
     "output_type": "stream",
     "text": [
      "<class 'list'>\n"
     ]
    }
   ],
   "source": [
    "list = []\n",
    "print(type(list))"
   ]
  },
  {
   "cell_type": "code",
   "execution_count": 3,
   "id": "82b9a06a",
   "metadata": {
    "execution": {
     "iopub.execute_input": "2025-01-24T13:00:36.287912Z",
     "iopub.status.busy": "2025-01-24T13:00:36.287532Z",
     "iopub.status.idle": "2025-01-24T13:00:36.292723Z",
     "shell.execute_reply": "2025-01-24T13:00:36.291435Z"
    },
    "papermill": {
     "duration": 0.013995,
     "end_time": "2025-01-24T13:00:36.294583",
     "exception": false,
     "start_time": "2025-01-24T13:00:36.280588",
     "status": "completed"
    },
    "tags": []
   },
   "outputs": [
    {
     "name": "stdout",
     "output_type": "stream",
     "text": [
      "['rajesh', 'manav', 'rishi', 1, 2, 3, 3, 4, 5]\n"
     ]
    }
   ],
   "source": [
    "names = [\"rajesh\",\"manav\",\"rishi\",1,2,3,3,4,5]\n",
    "print(names)"
   ]
  },
  {
   "cell_type": "code",
   "execution_count": 4,
   "id": "5a487f52",
   "metadata": {
    "execution": {
     "iopub.execute_input": "2025-01-24T13:00:36.308033Z",
     "iopub.status.busy": "2025-01-24T13:00:36.307633Z",
     "iopub.status.idle": "2025-01-24T13:00:36.313031Z",
     "shell.execute_reply": "2025-01-24T13:00:36.311887Z"
    },
    "papermill": {
     "duration": 0.013909,
     "end_time": "2025-01-24T13:00:36.314729",
     "exception": false,
     "start_time": "2025-01-24T13:00:36.300820",
     "status": "completed"
    },
    "tags": []
   },
   "outputs": [
    {
     "name": "stdout",
     "output_type": "stream",
     "text": [
      "[1, 'hellow', 3.12, True]\n"
     ]
    }
   ],
   "source": [
    "mixed_list =[1,\"hellow\",3.12,True]\n",
    "print(mixed_list)"
   ]
  },
  {
   "cell_type": "code",
   "execution_count": 5,
   "id": "d4e9e7fc",
   "metadata": {
    "execution": {
     "iopub.execute_input": "2025-01-24T13:00:36.328150Z",
     "iopub.status.busy": "2025-01-24T13:00:36.327777Z",
     "iopub.status.idle": "2025-01-24T13:00:36.334898Z",
     "shell.execute_reply": "2025-01-24T13:00:36.333772Z"
    },
    "papermill": {
     "duration": 0.015467,
     "end_time": "2025-01-24T13:00:36.336476",
     "exception": false,
     "start_time": "2025-01-24T13:00:36.321009",
     "status": "completed"
    },
    "tags": []
   },
   "outputs": [
    {
     "name": "stdout",
     "output_type": "stream",
     "text": [
      "apple\n",
      "cherry\n",
      "pomegranent\n",
      "orange\n",
      "['banana', 'cherry', 'kivi', 'pomegranent', 'orange']\n",
      "['banana', 'cherry']\n",
      "['orange']\n"
     ]
    }
   ],
   "source": [
    "#accessing the item in the list\n",
    "fruits =[\"apple\",\"banana\",\"cherry\",\"kivi\",\"pomegranent\",\"orange\"]\n",
    "print(fruits[0])\n",
    "print(fruits[2])\n",
    "print(fruits[4])\n",
    "print(fruits[-1])#access the last element \n",
    "print(fruits[1:])#access the element from the index 1 to the last index\n",
    "print(fruits[1:3])\n",
    "print(fruits[-1:])\n",
    "#print(fruits[-1:-3])"
   ]
  },
  {
   "cell_type": "code",
   "execution_count": 6,
   "id": "596308f4",
   "metadata": {
    "execution": {
     "iopub.execute_input": "2025-01-24T13:00:36.350121Z",
     "iopub.status.busy": "2025-01-24T13:00:36.349712Z",
     "iopub.status.idle": "2025-01-24T13:00:36.355120Z",
     "shell.execute_reply": "2025-01-24T13:00:36.353947Z"
    },
    "papermill": {
     "duration": 0.014309,
     "end_time": "2025-01-24T13:00:36.357130",
     "exception": false,
     "start_time": "2025-01-24T13:00:36.342821",
     "status": "completed"
    },
    "tags": []
   },
   "outputs": [
    {
     "name": "stdout",
     "output_type": "stream",
     "text": [
      "['apple', 'watermelon', 'cherry', 'kivi', 'pomegranent', 'orange']\n"
     ]
    }
   ],
   "source": [
    "#modification of the list element \n",
    "fruits[1] = \"watermelon\"\n",
    "print(fruits)\n",
    "# fruits[1:] = \"watermelon\"\n",
    "# print(fruits)\n"
   ]
  },
  {
   "cell_type": "code",
   "execution_count": 7,
   "id": "aa0561f8",
   "metadata": {
    "execution": {
     "iopub.execute_input": "2025-01-24T13:00:36.371458Z",
     "iopub.status.busy": "2025-01-24T13:00:36.371141Z",
     "iopub.status.idle": "2025-01-24T13:00:36.376313Z",
     "shell.execute_reply": "2025-01-24T13:00:36.375073Z"
    },
    "papermill": {
     "duration": 0.014941,
     "end_time": "2025-01-24T13:00:36.378291",
     "exception": false,
     "start_time": "2025-01-24T13:00:36.363350",
     "status": "completed"
    },
    "tags": []
   },
   "outputs": [
    {
     "name": "stdout",
     "output_type": "stream",
     "text": [
      "['apple', 'watermelon', 'cherry', 'kivi', 'pomegranent', 'orange', 'orange']\n"
     ]
    }
   ],
   "source": [
    "#List methods \n",
    "fruits.append(\"orange\")#add an item to the end \n",
    "print(fruits)"
   ]
  },
  {
   "cell_type": "code",
   "execution_count": 8,
   "id": "e9d19e7d",
   "metadata": {
    "execution": {
     "iopub.execute_input": "2025-01-24T13:00:36.392072Z",
     "iopub.status.busy": "2025-01-24T13:00:36.391692Z",
     "iopub.status.idle": "2025-01-24T13:00:36.396363Z",
     "shell.execute_reply": "2025-01-24T13:00:36.395348Z"
    },
    "papermill": {
     "duration": 0.013207,
     "end_time": "2025-01-24T13:00:36.397856",
     "exception": false,
     "start_time": "2025-01-24T13:00:36.384649",
     "status": "completed"
    },
    "tags": []
   },
   "outputs": [
    {
     "name": "stdout",
     "output_type": "stream",
     "text": [
      "['apple', 'banana', 'watermelon', 'cherry', 'kivi', 'pomegranent', 'orange', 'orange']\n"
     ]
    }
   ],
   "source": [
    "fruits.insert(1,\"banana\")\n",
    "print(fruits)"
   ]
  },
  {
   "cell_type": "code",
   "execution_count": 9,
   "id": "7d310984",
   "metadata": {
    "execution": {
     "iopub.execute_input": "2025-01-24T13:00:36.411536Z",
     "iopub.status.busy": "2025-01-24T13:00:36.411202Z",
     "iopub.status.idle": "2025-01-24T13:00:36.415924Z",
     "shell.execute_reply": "2025-01-24T13:00:36.414882Z"
    },
    "papermill": {
     "duration": 0.013289,
     "end_time": "2025-01-24T13:00:36.417496",
     "exception": false,
     "start_time": "2025-01-24T13:00:36.404207",
     "status": "completed"
    },
    "tags": []
   },
   "outputs": [
    {
     "name": "stdout",
     "output_type": "stream",
     "text": [
      "['apple', 'watermelon', 'cherry', 'kivi', 'pomegranent', 'orange', 'orange']\n"
     ]
    }
   ],
   "source": [
    "fruits.remove(\"banana\")\n",
    "print(fruits)"
   ]
  },
  {
   "cell_type": "code",
   "execution_count": 10,
   "id": "33cd13d6",
   "metadata": {
    "execution": {
     "iopub.execute_input": "2025-01-24T13:00:36.431324Z",
     "iopub.status.busy": "2025-01-24T13:00:36.430992Z",
     "iopub.status.idle": "2025-01-24T13:00:36.435978Z",
     "shell.execute_reply": "2025-01-24T13:00:36.435003Z"
    },
    "papermill": {
     "duration": 0.013592,
     "end_time": "2025-01-24T13:00:36.437498",
     "exception": false,
     "start_time": "2025-01-24T13:00:36.423906",
     "status": "completed"
    },
    "tags": []
   },
   "outputs": [
    {
     "name": "stdout",
     "output_type": "stream",
     "text": [
      "['apple', 'watermelon', 'cherry', 'kivi', 'pomegranent', 'orange']\n"
     ]
    }
   ],
   "source": [
    "fruits.remove(\"orange\")#it will going to remove the first occuring items\n",
    "print(fruits)"
   ]
  },
  {
   "cell_type": "code",
   "execution_count": 11,
   "id": "b6533f73",
   "metadata": {
    "execution": {
     "iopub.execute_input": "2025-01-24T13:00:36.451300Z",
     "iopub.status.busy": "2025-01-24T13:00:36.450942Z",
     "iopub.status.idle": "2025-01-24T13:00:36.456509Z",
     "shell.execute_reply": "2025-01-24T13:00:36.455360Z"
    },
    "papermill": {
     "duration": 0.014369,
     "end_time": "2025-01-24T13:00:36.458125",
     "exception": false,
     "start_time": "2025-01-24T13:00:36.443756",
     "status": "completed"
    },
    "tags": []
   },
   "outputs": [
    {
     "name": "stdout",
     "output_type": "stream",
     "text": [
      "orange\n",
      "['apple', 'watermelon', 'cherry', 'kivi', 'pomegranent']\n"
     ]
    }
   ],
   "source": [
    "#remove and return the last \n",
    "pop_fruits = fruits.pop()\n",
    "print(pop_fruits)\n",
    "print(fruits)"
   ]
  },
  {
   "cell_type": "code",
   "execution_count": 12,
   "id": "a051b39a",
   "metadata": {
    "execution": {
     "iopub.execute_input": "2025-01-24T13:00:36.472416Z",
     "iopub.status.busy": "2025-01-24T13:00:36.472100Z",
     "iopub.status.idle": "2025-01-24T13:00:36.477415Z",
     "shell.execute_reply": "2025-01-24T13:00:36.476078Z"
    },
    "papermill": {
     "duration": 0.014362,
     "end_time": "2025-01-24T13:00:36.479113",
     "exception": false,
     "start_time": "2025-01-24T13:00:36.464751",
     "status": "completed"
    },
    "tags": []
   },
   "outputs": [
    {
     "name": "stdout",
     "output_type": "stream",
     "text": [
      "2\n",
      "1\n"
     ]
    }
   ],
   "source": [
    "index = fruits.index(\"cherry\")\n",
    "print(index)\n",
    "fruits.insert(2,\"banana\")\n",
    "print(fruits.count(\"banana\"))"
   ]
  },
  {
   "cell_type": "code",
   "execution_count": 13,
   "id": "2678552f",
   "metadata": {
    "execution": {
     "iopub.execute_input": "2025-01-24T13:00:36.493925Z",
     "iopub.status.busy": "2025-01-24T13:00:36.493595Z",
     "iopub.status.idle": "2025-01-24T13:00:36.499419Z",
     "shell.execute_reply": "2025-01-24T13:00:36.498318Z"
    },
    "papermill": {
     "duration": 0.015061,
     "end_time": "2025-01-24T13:00:36.501007",
     "exception": false,
     "start_time": "2025-01-24T13:00:36.485946",
     "status": "completed"
    },
    "tags": []
   },
   "outputs": [
    {
     "name": "stdout",
     "output_type": "stream",
     "text": [
      "['apple', 'banana', 'cherry', 'kivi', 'pomegranent', 'watermelon']\n",
      "reverse of the previous list: ['watermelon', 'pomegranent', 'kivi', 'cherry', 'banana', 'apple']\n"
     ]
    }
   ],
   "source": [
    "#sort the list in the assending order\n",
    "fruits.sort()\n",
    "print(fruits)\n",
    "\n",
    "#reversing the elements of the list \n",
    "fruits.reverse()\n",
    "print(\"reverse of the previous list:\",fruits)"
   ]
  },
  {
   "cell_type": "code",
   "execution_count": 14,
   "id": "d62eb278",
   "metadata": {
    "execution": {
     "iopub.execute_input": "2025-01-24T13:00:36.515847Z",
     "iopub.status.busy": "2025-01-24T13:00:36.515458Z",
     "iopub.status.idle": "2025-01-24T13:00:36.520219Z",
     "shell.execute_reply": "2025-01-24T13:00:36.518901Z"
    },
    "papermill": {
     "duration": 0.013744,
     "end_time": "2025-01-24T13:00:36.521812",
     "exception": false,
     "start_time": "2025-01-24T13:00:36.508068",
     "status": "completed"
    },
    "tags": []
   },
   "outputs": [
    {
     "name": "stdout",
     "output_type": "stream",
     "text": [
      "[]\n"
     ]
    }
   ],
   "source": [
    "#clear the whole the list \n",
    "fruits.clear()\n",
    "print(fruits)"
   ]
  },
  {
   "cell_type": "markdown",
   "id": "d01cc981",
   "metadata": {
    "papermill": {
     "duration": 0.00625,
     "end_time": "2025-01-24T13:00:36.535093",
     "exception": false,
     "start_time": "2025-01-24T13:00:36.528843",
     "status": "completed"
    },
    "tags": []
   },
   "source": [
    "# Slicing"
   ]
  },
  {
   "cell_type": "code",
   "execution_count": 15,
   "id": "7027041d",
   "metadata": {
    "execution": {
     "iopub.execute_input": "2025-01-24T13:00:36.549419Z",
     "iopub.status.busy": "2025-01-24T13:00:36.549063Z",
     "iopub.status.idle": "2025-01-24T13:00:36.555481Z",
     "shell.execute_reply": "2025-01-24T13:00:36.554218Z"
    },
    "papermill": {
     "duration": 0.015495,
     "end_time": "2025-01-24T13:00:36.557026",
     "exception": false,
     "start_time": "2025-01-24T13:00:36.541531",
     "status": "completed"
    },
    "tags": []
   },
   "outputs": [
    {
     "name": "stdout",
     "output_type": "stream",
     "text": [
      "[3, 4, 5]\n",
      "[1, 2, 3, 4, 5]\n",
      "[6, 7, 8, 9, 10]\n",
      "[1, 3, 5, 7, 9]\n",
      "[10, 9, 8, 7, 6, 5, 4, 3, 2, 1]\n"
     ]
    }
   ],
   "source": [
    "numbers =[1,2,3,4,5,6,7,8,9,10]\n",
    "print(numbers[2:5])\n",
    "print(numbers[:5])\n",
    "print(numbers[5:])\n",
    "print(numbers[::2])\n",
    "print(numbers[::-1])"
   ]
  },
  {
   "cell_type": "code",
   "execution_count": 16,
   "id": "1580c90d",
   "metadata": {
    "execution": {
     "iopub.execute_input": "2025-01-24T13:00:36.571367Z",
     "iopub.status.busy": "2025-01-24T13:00:36.571024Z",
     "iopub.status.idle": "2025-01-24T13:00:36.576792Z",
     "shell.execute_reply": "2025-01-24T13:00:36.575895Z"
    },
    "papermill": {
     "duration": 0.014606,
     "end_time": "2025-01-24T13:00:36.578352",
     "exception": false,
     "start_time": "2025-01-24T13:00:36.563746",
     "status": "completed"
    },
    "tags": []
   },
   "outputs": [
    {
     "name": "stdout",
     "output_type": "stream",
     "text": [
      "[1, 2, 3, 4, 5, 6, 7, 8, 9, 10]\n",
      "[1, 2, 3, 4, 5, 6, 7, 8, 9, 10]\n",
      "[1, 3, 5, 7, 9]\n",
      "[1, 4, 7, 10]\n",
      "[1, 5, 9]\n",
      "[1, 6]\n"
     ]
    }
   ],
   "source": [
    "print(numbers[::])#After double colon is nothing means no stepsize\n",
    "print(numbers[::1])#here stepsize=1\n",
    "print(numbers[::2])#stepsize = 2\n",
    "print(numbers[::3])#stepsize =3\n",
    "print(numbers[::4])#stepsize = 4\n",
    "print(numbers[::5])#stepsize = 5"
   ]
  },
  {
   "cell_type": "code",
   "execution_count": 17,
   "id": "3af76fcd",
   "metadata": {
    "execution": {
     "iopub.execute_input": "2025-01-24T13:00:36.592739Z",
     "iopub.status.busy": "2025-01-24T13:00:36.592372Z",
     "iopub.status.idle": "2025-01-24T13:00:36.598875Z",
     "shell.execute_reply": "2025-01-24T13:00:36.597767Z"
    },
    "papermill": {
     "duration": 0.015329,
     "end_time": "2025-01-24T13:00:36.600437",
     "exception": false,
     "start_time": "2025-01-24T13:00:36.585108",
     "status": "completed"
    },
    "tags": []
   },
   "outputs": [
    {
     "name": "stdout",
     "output_type": "stream",
     "text": [
      "[10, 8, 6, 4, 2]\n",
      "[10, 7, 4, 1]\n",
      "[10, 6, 2]\n",
      "[10, 5]\n"
     ]
    }
   ],
   "source": [
    "print(numbers[::-2])\n",
    "print(numbers[::-3])\n",
    "print(numbers[::-4])\n",
    "print(numbers[::-5])"
   ]
  },
  {
   "cell_type": "markdown",
   "id": "9d71944a",
   "metadata": {
    "papermill": {
     "duration": 0.006453,
     "end_time": "2025-01-24T13:00:36.613779",
     "exception": false,
     "start_time": "2025-01-24T13:00:36.607326",
     "status": "completed"
    },
    "tags": []
   },
   "source": [
    "# Iterate over  the list"
   ]
  },
  {
   "cell_type": "code",
   "execution_count": 18,
   "id": "a5934ce4",
   "metadata": {
    "execution": {
     "iopub.execute_input": "2025-01-24T13:00:36.629584Z",
     "iopub.status.busy": "2025-01-24T13:00:36.629269Z",
     "iopub.status.idle": "2025-01-24T13:00:36.635351Z",
     "shell.execute_reply": "2025-01-24T13:00:36.634197Z"
    },
    "papermill": {
     "duration": 0.016482,
     "end_time": "2025-01-24T13:00:36.637069",
     "exception": false,
     "start_time": "2025-01-24T13:00:36.620587",
     "status": "completed"
    },
    "tags": []
   },
   "outputs": [
    {
     "name": "stdout",
     "output_type": "stream",
     "text": [
      "1\n",
      "2\n",
      "3\n",
      "4\n",
      "5\n",
      "6\n",
      "7\n",
      "8\n",
      "9\n",
      "10\n"
     ]
    }
   ],
   "source": [
    "for num in numbers:\n",
    "    print(num)"
   ]
  },
  {
   "cell_type": "code",
   "execution_count": 19,
   "id": "28b8b384",
   "metadata": {
    "execution": {
     "iopub.execute_input": "2025-01-24T13:00:36.652019Z",
     "iopub.status.busy": "2025-01-24T13:00:36.651644Z",
     "iopub.status.idle": "2025-01-24T13:00:36.665457Z",
     "shell.execute_reply": "2025-01-24T13:00:36.663762Z"
    },
    "papermill": {
     "duration": 0.023169,
     "end_time": "2025-01-24T13:00:36.667163",
     "exception": false,
     "start_time": "2025-01-24T13:00:36.643994",
     "status": "completed"
    },
    "tags": []
   },
   "outputs": [
    {
     "name": "stdout",
     "output_type": "stream",
     "text": [
      "index= 0 num: 1\n",
      "index= 1 num: 2\n",
      "index= 2 num: 3\n",
      "index= 3 num: 4\n",
      "index= 4 num: 5\n",
      "index= 5 num: 6\n",
      "index= 6 num: 7\n",
      "index= 7 num: 8\n",
      "index= 8 num: 9\n",
      "index= 9 num: 10\n"
     ]
    }
   ],
   "source": [
    "## iterating with the index\n",
    "for index,num in enumerate(numbers):\n",
    "    print(\"index=\",index,\"num:\",num)\n",
    "    "
   ]
  },
  {
   "cell_type": "markdown",
   "id": "6e94449d",
   "metadata": {
    "papermill": {
     "duration": 0.006854,
     "end_time": "2025-01-24T13:00:36.681243",
     "exception": false,
     "start_time": "2025-01-24T13:00:36.674389",
     "status": "completed"
    },
    "tags": []
   },
   "source": [
    "# list comprenhencion \n",
    "\n",
    "1.  basics syntex \n",
    " [expression for item in iterable]\n",
    "\n",
    "2. with conditional logics \n",
    " [expression for item in iterable if condition]\n",
    "\n",
    "3. nested list comprehension\n",
    "    [expression for item1 in iterable1 for item2 in iterable2]"
   ]
  },
  {
   "cell_type": "code",
   "execution_count": 20,
   "id": "294b0ea9",
   "metadata": {
    "execution": {
     "iopub.execute_input": "2025-01-24T13:00:36.696348Z",
     "iopub.status.busy": "2025-01-24T13:00:36.696008Z",
     "iopub.status.idle": "2025-01-24T13:00:36.700730Z",
     "shell.execute_reply": "2025-01-24T13:00:36.699728Z"
    },
    "papermill": {
     "duration": 0.014183,
     "end_time": "2025-01-24T13:00:36.702235",
     "exception": false,
     "start_time": "2025-01-24T13:00:36.688052",
     "status": "completed"
    },
    "tags": []
   },
   "outputs": [
    {
     "name": "stdout",
     "output_type": "stream",
     "text": [
      "[0, 1, 4, 9, 16, 25, 36, 49, 64, 81]\n"
     ]
    }
   ],
   "source": [
    "list =[]\n",
    "for x in range(10):\n",
    "    list.append(x**2)\n",
    "\n",
    "print(list)"
   ]
  },
  {
   "cell_type": "code",
   "execution_count": 21,
   "id": "d5103970",
   "metadata": {
    "execution": {
     "iopub.execute_input": "2025-01-24T13:00:36.717398Z",
     "iopub.status.busy": "2025-01-24T13:00:36.717082Z",
     "iopub.status.idle": "2025-01-24T13:00:36.724827Z",
     "shell.execute_reply": "2025-01-24T13:00:36.723390Z"
    },
    "papermill": {
     "duration": 0.017068,
     "end_time": "2025-01-24T13:00:36.726389",
     "exception": false,
     "start_time": "2025-01-24T13:00:36.709321",
     "status": "completed"
    },
    "tags": []
   },
   "outputs": [
    {
     "data": {
      "text/plain": [
       "[0, 1, 4, 9, 16, 25, 36, 49, 64, 81]"
      ]
     },
     "execution_count": 21,
     "metadata": {},
     "output_type": "execute_result"
    }
   ],
   "source": [
    "[x**2 for x in range(10)]"
   ]
  },
  {
   "cell_type": "code",
   "execution_count": 22,
   "id": "8bd3b163",
   "metadata": {
    "execution": {
     "iopub.execute_input": "2025-01-24T13:00:36.742058Z",
     "iopub.status.busy": "2025-01-24T13:00:36.741704Z",
     "iopub.status.idle": "2025-01-24T13:00:36.746907Z",
     "shell.execute_reply": "2025-01-24T13:00:36.745841Z"
    },
    "papermill": {
     "duration": 0.014889,
     "end_time": "2025-01-24T13:00:36.748523",
     "exception": false,
     "start_time": "2025-01-24T13:00:36.733634",
     "status": "completed"
    },
    "tags": []
   },
   "outputs": [
    {
     "name": "stdout",
     "output_type": "stream",
     "text": [
      "[0, 1, 4, 9, 16, 25, 36, 49, 64, 81]\n"
     ]
    }
   ],
   "source": [
    "#basic list comprehension\n",
    "square =[num**2 for num in range (10)]\n",
    "print(square)"
   ]
  },
  {
   "cell_type": "code",
   "execution_count": 23,
   "id": "051b1da9",
   "metadata": {
    "execution": {
     "iopub.execute_input": "2025-01-24T13:00:36.764152Z",
     "iopub.status.busy": "2025-01-24T13:00:36.763778Z",
     "iopub.status.idle": "2025-01-24T13:00:36.770277Z",
     "shell.execute_reply": "2025-01-24T13:00:36.769074Z"
    },
    "papermill": {
     "duration": 0.01604,
     "end_time": "2025-01-24T13:00:36.771910",
     "exception": false,
     "start_time": "2025-01-24T13:00:36.755870",
     "status": "completed"
    },
    "tags": []
   },
   "outputs": [
    {
     "name": "stdout",
     "output_type": "stream",
     "text": [
      "[0, 4, 16, 36, 64]\n"
     ]
    }
   ],
   "source": [
    "#list comprehension with condition \n",
    "con_square = [num**2 for num in range(10) if num%2==0]\n",
    "print(con_square)"
   ]
  },
  {
   "cell_type": "code",
   "execution_count": 24,
   "id": "43d9f57f",
   "metadata": {
    "execution": {
     "iopub.execute_input": "2025-01-24T13:00:36.788080Z",
     "iopub.status.busy": "2025-01-24T13:00:36.787715Z",
     "iopub.status.idle": "2025-01-24T13:00:36.793091Z",
     "shell.execute_reply": "2025-01-24T13:00:36.792118Z"
    },
    "papermill": {
     "duration": 0.015128,
     "end_time": "2025-01-24T13:00:36.794848",
     "exception": false,
     "start_time": "2025-01-24T13:00:36.779720",
     "status": "completed"
    },
    "tags": []
   },
   "outputs": [
    {
     "name": "stdout",
     "output_type": "stream",
     "text": [
      "[(1, 'a'), (1, 'b'), (1, 'c'), (1, 'd'), (2, 'a'), (2, 'b'), (2, 'c'), (2, 'd'), (3, 'a'), (3, 'b'), (3, 'c'), (3, 'd'), (4, 'a'), (4, 'b'), (4, 'c'), (4, 'd'), (5, 'a'), (5, 'b'), (5, 'c'), (5, 'd')]\n"
     ]
    }
   ],
   "source": [
    "#nested comphrension \n",
    "list1 =[1,2,3,4,5]\n",
    "list2 = ['a','b','c','d']\n",
    "pair = [(i,j) for i in list1 for j in list2]\n",
    "print(pair)\n",
    "# pair1 =[[k,l] for k in range list1 for l in range list2]\n",
    "# print(pair1)"
   ]
  },
  {
   "cell_type": "code",
   "execution_count": 25,
   "id": "998f18c7",
   "metadata": {
    "execution": {
     "iopub.execute_input": "2025-01-24T13:00:36.811301Z",
     "iopub.status.busy": "2025-01-24T13:00:36.810931Z",
     "iopub.status.idle": "2025-01-24T13:00:36.816114Z",
     "shell.execute_reply": "2025-01-24T13:00:36.814785Z"
    },
    "papermill": {
     "duration": 0.01492,
     "end_time": "2025-01-24T13:00:36.817689",
     "exception": false,
     "start_time": "2025-01-24T13:00:36.802769",
     "status": "completed"
    },
    "tags": []
   },
   "outputs": [
    {
     "name": "stdout",
     "output_type": "stream",
     "text": [
      "[5, 5, 6, 4, 13]\n"
     ]
    }
   ],
   "source": [
    "## list comprehension with function call \n",
    "words = [\"hello\",\"world\",\"python\",\"list\",\"comprehension\"]\n",
    "lengths =[len(words) for words in words ]\n",
    "print(lengths)"
   ]
  },
  {
   "cell_type": "code",
   "execution_count": null,
   "id": "23262c0c",
   "metadata": {
    "papermill": {
     "duration": 0.006906,
     "end_time": "2025-01-24T13:00:36.832038",
     "exception": false,
     "start_time": "2025-01-24T13:00:36.825132",
     "status": "completed"
    },
    "tags": []
   },
   "outputs": [],
   "source": []
  }
 ],
 "metadata": {
  "kaggle": {
   "accelerator": "none",
   "dataSources": [],
   "dockerImageVersionId": 30839,
   "isGpuEnabled": false,
   "isInternetEnabled": true,
   "language": "python",
   "sourceType": "notebook"
  },
  "kernelspec": {
   "display_name": "Python 3",
   "language": "python",
   "name": "python3"
  },
  "language_info": {
   "codemirror_mode": {
    "name": "ipython",
    "version": 3
   },
   "file_extension": ".py",
   "mimetype": "text/x-python",
   "name": "python",
   "nbconvert_exporter": "python",
   "pygments_lexer": "ipython3",
   "version": "3.10.12"
  },
  "papermill": {
   "default_parameters": {},
   "duration": 4.822992,
   "end_time": "2025-01-24T13:00:37.459327",
   "environment_variables": {},
   "exception": null,
   "input_path": "__notebook__.ipynb",
   "output_path": "__notebook__.ipynb",
   "parameters": {},
   "start_time": "2025-01-24T13:00:32.636335",
   "version": "2.6.0"
  }
 },
 "nbformat": 4,
 "nbformat_minor": 5
}
