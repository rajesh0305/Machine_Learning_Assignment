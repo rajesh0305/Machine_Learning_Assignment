{
 "cells": [
  {
   "cell_type": "code",
   "execution_count": 1,
   "id": "aa8993ff",
   "metadata": {
    "_cell_guid": "b1076dfc-b9ad-4769-8c92-a6c4dae69d19",
    "_uuid": "8f2839f25d086af736a60e9eeb907d3b93b6e0e5",
    "execution": {
     "iopub.execute_input": "2025-01-24T18:23:02.418298Z",
     "iopub.status.busy": "2025-01-24T18:23:02.417782Z",
     "iopub.status.idle": "2025-01-24T18:23:03.534294Z",
     "shell.execute_reply": "2025-01-24T18:23:03.533150Z"
    },
    "papermill": {
     "duration": 1.125387,
     "end_time": "2025-01-24T18:23:03.536415",
     "exception": false,
     "start_time": "2025-01-24T18:23:02.411028",
     "status": "completed"
    },
    "tags": []
   },
   "outputs": [],
   "source": [
    "# This Python 3 environment comes with many helpful analytics libraries installed\n",
    "# It is defined by the kaggle/python Docker image: https://github.com/kaggle/docker-python\n",
    "# For example, here's several helpful packages to load\n",
    "\n",
    "import numpy as np # linear algebra\n",
    "import pandas as pd # data processing, CSV file I/O (e.g. pd.read_csv)\n",
    "\n",
    "# Input data files are available in the read-only \"../input/\" directory\n",
    "# For example, running this (by clicking run or pressing Shift+Enter) will list all files under the input directory\n",
    "\n",
    "import os\n",
    "for dirname, _, filenames in os.walk('/kaggle/input'):\n",
    "    for filename in filenames:\n",
    "        print(os.path.join(dirname, filename))\n",
    "\n",
    "# You can write up to 20GB to the current directory (/kaggle/working/) that gets preserved as output when you create a version using \"Save & Run All\" \n",
    "# You can also write temporary files to /kaggle/temp/, but they won't be saved outside of the current session"
   ]
  },
  {
   "cell_type": "markdown",
   "id": "ab7dfdf5",
   "metadata": {
    "papermill": {
     "duration": 0.004356,
     "end_time": "2025-01-24T18:23:03.545847",
     "exception": false,
     "start_time": "2025-01-24T18:23:03.541491",
     "status": "completed"
    },
    "tags": []
   },
   "source": [
    "# Tuples\n",
    "\n",
    "Tuples are ordered collections of items that are immutable.They are similar to the list mbut their immutability makes them different \n",
    "1. introduction\n",
    "2. creating tuples\n",
    "3. accessing tuple elements\n",
    "4. tuple operation\n",
    "5. immutble nature of the tuple\n",
    "6. tuple methods\n",
    "7. packing and unpacking tuples\n",
    "8. nested tuples\n",
    "9. example\n",
    "   \n",
    " * indexing and the slicing of tuple is same as list "
   ]
  },
  {
   "cell_type": "code",
   "execution_count": 2,
   "id": "7eee679a",
   "metadata": {
    "execution": {
     "iopub.execute_input": "2025-01-24T18:23:03.557380Z",
     "iopub.status.busy": "2025-01-24T18:23:03.556809Z",
     "iopub.status.idle": "2025-01-24T18:23:03.562644Z",
     "shell.execute_reply": "2025-01-24T18:23:03.561348Z"
    },
    "papermill": {
     "duration": 0.014119,
     "end_time": "2025-01-24T18:23:03.564672",
     "exception": false,
     "start_time": "2025-01-24T18:23:03.550553",
     "status": "completed"
    },
    "tags": []
   },
   "outputs": [
    {
     "name": "stdout",
     "output_type": "stream",
     "text": [
      "()\n",
      "<class 'tuple'>\n"
     ]
    }
   ],
   "source": [
    "#creating the tuple \n",
    "empty_tuple = ()\n",
    "print(empty_tuple)\n",
    "print(type(empty_tuple))"
   ]
  },
  {
   "cell_type": "code",
   "execution_count": 3,
   "id": "03780735",
   "metadata": {
    "execution": {
     "iopub.execute_input": "2025-01-24T18:23:03.575931Z",
     "iopub.status.busy": "2025-01-24T18:23:03.575544Z",
     "iopub.status.idle": "2025-01-24T18:23:03.581611Z",
     "shell.execute_reply": "2025-01-24T18:23:03.580463Z"
    },
    "papermill": {
     "duration": 0.013659,
     "end_time": "2025-01-24T18:23:03.583411",
     "exception": false,
     "start_time": "2025-01-24T18:23:03.569752",
     "status": "completed"
    },
    "tags": []
   },
   "outputs": [
    {
     "name": "stdout",
     "output_type": "stream",
     "text": [
      "<class 'list'>\n",
      "<class 'tuple'>\n"
     ]
    }
   ],
   "source": [
    "lst = list()\n",
    "print(type(lst))\n",
    "tple =tuple()\n",
    "print(type(tple))"
   ]
  },
  {
   "cell_type": "markdown",
   "id": "39f6ab1f",
   "metadata": {
    "papermill": {
     "duration": 0.00458,
     "end_time": "2025-01-24T18:23:03.593019",
     "exception": false,
     "start_time": "2025-01-24T18:23:03.588439",
     "status": "completed"
    },
    "tags": []
   },
   "source": [
    "=>list can be convert into the tuple and tuple can also be convert into the list as well"
   ]
  },
  {
   "cell_type": "code",
   "execution_count": 4,
   "id": "22f4210a",
   "metadata": {
    "execution": {
     "iopub.execute_input": "2025-01-24T18:23:03.603880Z",
     "iopub.status.busy": "2025-01-24T18:23:03.603403Z",
     "iopub.status.idle": "2025-01-24T18:23:03.609417Z",
     "shell.execute_reply": "2025-01-24T18:23:03.608215Z"
    },
    "papermill": {
     "duration": 0.013674,
     "end_time": "2025-01-24T18:23:03.611462",
     "exception": false,
     "start_time": "2025-01-24T18:23:03.597788",
     "status": "completed"
    },
    "tags": []
   },
   "outputs": [
    {
     "name": "stdout",
     "output_type": "stream",
     "text": [
      "(1, 2, 3, 4, 5)\n",
      "[1, 2, 3, 4, 5]\n"
     ]
    }
   ],
   "source": [
    "numbers = tuple([1,2,3,4,5])\n",
    "print(numbers )\n",
    "list = list((1,2,3,4,5))\n",
    "print(list)"
   ]
  },
  {
   "cell_type": "code",
   "execution_count": 5,
   "id": "35dca690",
   "metadata": {
    "execution": {
     "iopub.execute_input": "2025-01-24T18:23:03.622827Z",
     "iopub.status.busy": "2025-01-24T18:23:03.622480Z",
     "iopub.status.idle": "2025-01-24T18:23:03.627779Z",
     "shell.execute_reply": "2025-01-24T18:23:03.626311Z"
    },
    "papermill": {
     "duration": 0.013111,
     "end_time": "2025-01-24T18:23:03.629787",
     "exception": false,
     "start_time": "2025-01-24T18:23:03.616676",
     "status": "completed"
    },
    "tags": []
   },
   "outputs": [
    {
     "name": "stdout",
     "output_type": "stream",
     "text": [
      "(1, 'jello', 3.4, True)\n"
     ]
    }
   ],
   "source": [
    "mixed_tuple = (1,\"jello\",3.4,True)\n",
    "print(mixed_tuple)"
   ]
  },
  {
   "cell_type": "code",
   "execution_count": 6,
   "id": "270d6e7a",
   "metadata": {
    "execution": {
     "iopub.execute_input": "2025-01-24T18:23:03.641506Z",
     "iopub.status.busy": "2025-01-24T18:23:03.641153Z",
     "iopub.status.idle": "2025-01-24T18:23:03.646704Z",
     "shell.execute_reply": "2025-01-24T18:23:03.645531Z"
    },
    "papermill": {
     "duration": 0.013413,
     "end_time": "2025-01-24T18:23:03.648334",
     "exception": false,
     "start_time": "2025-01-24T18:23:03.634921",
     "status": "completed"
    },
    "tags": []
   },
   "outputs": [
    {
     "name": "stdout",
     "output_type": "stream",
     "text": [
      "(1, 2, 3, 4, 5)\n",
      "5\n"
     ]
    }
   ],
   "source": [
    "#Accessing tuple elements\n",
    "print(numbers)\n",
    "print(numbers[-1])\n"
   ]
  },
  {
   "cell_type": "code",
   "execution_count": 7,
   "id": "c55d7bfc",
   "metadata": {
    "execution": {
     "iopub.execute_input": "2025-01-24T18:23:03.660033Z",
     "iopub.status.busy": "2025-01-24T18:23:03.659617Z",
     "iopub.status.idle": "2025-01-24T18:23:03.668172Z",
     "shell.execute_reply": "2025-01-24T18:23:03.665933Z"
    },
    "papermill": {
     "duration": 0.016584,
     "end_time": "2025-01-24T18:23:03.670133",
     "exception": false,
     "start_time": "2025-01-24T18:23:03.653549",
     "status": "completed"
    },
    "tags": []
   },
   "outputs": [
    {
     "name": "stdout",
     "output_type": "stream",
     "text": [
      "(1, 2, 3, 4)\n",
      "(2, 3)\n",
      "(1, 2, 3, 4, 5)\n",
      "(1, 2, 3, 4, 5)\n",
      "(1, 3, 5)\n",
      "(1, 4)\n"
     ]
    }
   ],
   "source": [
    "print(numbers[:4])\n",
    "print(numbers[1:3])\n",
    "print(numbers[::])\n",
    "print(numbers[::1])\n",
    "print(numbers[::2])\n",
    "print(numbers[::3])"
   ]
  },
  {
   "cell_type": "markdown",
   "id": "239bcb90",
   "metadata": {
    "papermill": {
     "duration": 0.004769,
     "end_time": "2025-01-24T18:23:03.680407",
     "exception": false,
     "start_time": "2025-01-24T18:23:03.675638",
     "status": "completed"
    },
    "tags": []
   },
   "source": [
    "Tuple operation"
   ]
  },
  {
   "cell_type": "code",
   "execution_count": 8,
   "id": "d7a36d25",
   "metadata": {
    "execution": {
     "iopub.execute_input": "2025-01-24T18:23:03.692020Z",
     "iopub.status.busy": "2025-01-24T18:23:03.691560Z",
     "iopub.status.idle": "2025-01-24T18:23:03.697106Z",
     "shell.execute_reply": "2025-01-24T18:23:03.695845Z"
    },
    "papermill": {
     "duration": 0.013671,
     "end_time": "2025-01-24T18:23:03.699165",
     "exception": false,
     "start_time": "2025-01-24T18:23:03.685494",
     "status": "completed"
    },
    "tags": []
   },
   "outputs": [
    {
     "name": "stdout",
     "output_type": "stream",
     "text": [
      "(1, 2, 3, 4, 5)\n",
      "(1, 'jello', 3.4, True)\n",
      "(1, 2, 3, 4, 5, 1, 'jello', 3.4, True)\n"
     ]
    }
   ],
   "source": [
    "print(numbers)\n",
    "print(mixed_tuple)\n",
    "#Concatination operation between two tuple\n",
    "print(numbers+mixed_tuple)"
   ]
  },
  {
   "cell_type": "code",
   "execution_count": 9,
   "id": "5c81c449",
   "metadata": {
    "execution": {
     "iopub.execute_input": "2025-01-24T18:23:03.711083Z",
     "iopub.status.busy": "2025-01-24T18:23:03.710661Z",
     "iopub.status.idle": "2025-01-24T18:23:03.716354Z",
     "shell.execute_reply": "2025-01-24T18:23:03.715012Z"
    },
    "papermill": {
     "duration": 0.013715,
     "end_time": "2025-01-24T18:23:03.718396",
     "exception": false,
     "start_time": "2025-01-24T18:23:03.704681",
     "status": "completed"
    },
    "tags": []
   },
   "outputs": [
    {
     "name": "stdout",
     "output_type": "stream",
     "text": [
      "(1, 2, 3, 4, 5, 1, 2, 3, 4, 5, 1, 2, 3, 4, 5)\n",
      "(1, 'jello', 3.4, True, 1, 'jello', 3.4, True, 1, 'jello', 3.4, True)\n"
     ]
    }
   ],
   "source": [
    "print(numbers*3)\n",
    "print(mixed_tuple*3)"
   ]
  },
  {
   "cell_type": "markdown",
   "id": "5c36c984",
   "metadata": {
    "papermill": {
     "duration": 0.005208,
     "end_time": "2025-01-24T18:23:03.729471",
     "exception": false,
     "start_time": "2025-01-24T18:23:03.724263",
     "status": "completed"
    },
    "tags": []
   },
   "source": [
    "observation: actually it is not working like the airthmetic operation but it is repeating the tuple by number of multiplicand"
   ]
  },
  {
   "cell_type": "markdown",
   "id": "565d3172",
   "metadata": {
    "papermill": {
     "duration": 0.005124,
     "end_time": "2025-01-24T18:23:03.739823",
     "exception": false,
     "start_time": "2025-01-24T18:23:03.734699",
     "status": "completed"
    },
    "tags": []
   },
   "source": [
    "# Immutable nature of tuple "
   ]
  },
  {
   "cell_type": "code",
   "execution_count": 10,
   "id": "b7d511d1",
   "metadata": {
    "execution": {
     "iopub.execute_input": "2025-01-24T18:23:03.752162Z",
     "iopub.status.busy": "2025-01-24T18:23:03.751752Z",
     "iopub.status.idle": "2025-01-24T18:23:03.758497Z",
     "shell.execute_reply": "2025-01-24T18:23:03.756793Z"
    },
    "papermill": {
     "duration": 0.015459,
     "end_time": "2025-01-24T18:23:03.760531",
     "exception": false,
     "start_time": "2025-01-24T18:23:03.745072",
     "status": "completed"
    },
    "tags": []
   },
   "outputs": [
    {
     "name": "stdout",
     "output_type": "stream",
     "text": [
      "[1, 2, 3, 4, 5]\n",
      "[1, 'krish', 3, 4, 5]\n"
     ]
    }
   ],
   "source": [
    "#tuples are immutable , meaning their elements cannot be changed once assign \n",
    "\n",
    "#with list\n",
    "list =[1,2,3,4,5]\n",
    "print(list)\n",
    "\n",
    "list[1] =\"krish\"\n",
    "print(list)\n",
    "\n",
    "# #with tuple\n",
    "# print(type(numbers),numbers)\n",
    "# numbers[1] = \"rajesh\""
   ]
  },
  {
   "cell_type": "code",
   "execution_count": 11,
   "id": "a483f76d",
   "metadata": {
    "execution": {
     "iopub.execute_input": "2025-01-24T18:23:03.773075Z",
     "iopub.status.busy": "2025-01-24T18:23:03.772623Z",
     "iopub.status.idle": "2025-01-24T18:23:03.778897Z",
     "shell.execute_reply": "2025-01-24T18:23:03.777825Z"
    },
    "papermill": {
     "duration": 0.014203,
     "end_time": "2025-01-24T18:23:03.780493",
     "exception": false,
     "start_time": "2025-01-24T18:23:03.766290",
     "status": "completed"
    },
    "tags": []
   },
   "outputs": [
    {
     "name": "stdout",
     "output_type": "stream",
     "text": [
      "1\n",
      "(1, 2, 3, 4, 5)\n",
      "3\n"
     ]
    }
   ],
   "source": [
    "#tuple methods\n",
    "print(numbers.count(1))\n",
    "print(numbers)\n",
    "print(numbers.index(4))#it return the index of the given eleents \n"
   ]
  },
  {
   "cell_type": "code",
   "execution_count": 12,
   "id": "5170a099",
   "metadata": {
    "execution": {
     "iopub.execute_input": "2025-01-24T18:23:03.792632Z",
     "iopub.status.busy": "2025-01-24T18:23:03.792245Z",
     "iopub.status.idle": "2025-01-24T18:23:03.798070Z",
     "shell.execute_reply": "2025-01-24T18:23:03.796893Z"
    },
    "papermill": {
     "duration": 0.01366,
     "end_time": "2025-01-24T18:23:03.799715",
     "exception": false,
     "start_time": "2025-01-24T18:23:03.786055",
     "status": "completed"
    },
    "tags": []
   },
   "outputs": [
    {
     "name": "stdout",
     "output_type": "stream",
     "text": [
      "('hello', 3.21)\n",
      "hello\n",
      "3.21\n"
     ]
    }
   ],
   "source": [
    "#packing and unpacking tuple\n",
    "#packing\n",
    "packed_tuple = \"hello\",3.21\n",
    "print(packed_tuple)\n",
    "\n",
    "#unpacking \n",
    "a,b= packed_tuple\n",
    "print(a)\n",
    "print(b)\n"
   ]
  },
  {
   "cell_type": "code",
   "execution_count": 13,
   "id": "4a05a5de",
   "metadata": {
    "execution": {
     "iopub.execute_input": "2025-01-24T18:23:03.811938Z",
     "iopub.status.busy": "2025-01-24T18:23:03.811557Z",
     "iopub.status.idle": "2025-01-24T18:23:03.816605Z",
     "shell.execute_reply": "2025-01-24T18:23:03.815412Z"
    },
    "papermill": {
     "duration": 0.013415,
     "end_time": "2025-01-24T18:23:03.818577",
     "exception": false,
     "start_time": "2025-01-24T18:23:03.805162",
     "status": "completed"
    },
    "tags": []
   },
   "outputs": [
    {
     "name": "stdout",
     "output_type": "stream",
     "text": [
      "1\n",
      "[2, 3, 4, 5]\n",
      "6\n"
     ]
    }
   ],
   "source": [
    "#unpacking with *\n",
    "numbers = (1,2,3,4,5,6)\n",
    "first,*middle,last = numbers\n",
    "print(first)\n",
    "print(middle)\n",
    "print(last)"
   ]
  },
  {
   "cell_type": "code",
   "execution_count": 14,
   "id": "d5e9751a",
   "metadata": {
    "execution": {
     "iopub.execute_input": "2025-01-24T18:23:03.831566Z",
     "iopub.status.busy": "2025-01-24T18:23:03.831180Z",
     "iopub.status.idle": "2025-01-24T18:23:03.838345Z",
     "shell.execute_reply": "2025-01-24T18:23:03.837074Z"
    },
    "papermill": {
     "duration": 0.016198,
     "end_time": "2025-01-24T18:23:03.840521",
     "exception": false,
     "start_time": "2025-01-24T18:23:03.824323",
     "status": "completed"
    },
    "tags": []
   },
   "outputs": [
    {
     "name": "stdout",
     "output_type": "stream",
     "text": [
      "[3, 4]\n",
      "[1, 2, 3, 4]\n",
      "[3, 4, 5]\n",
      "[3.1, 4, 'hello']\n"
     ]
    }
   ],
   "source": [
    "#example of nested tuple\n",
    "\n",
    "#nested list\n",
    "li =[[1,2,3,4],[3,4,5],[3.1,4,\"hello\"]]\n",
    "print(li[0][2:])\n",
    "print(li[0][::1])\n",
    "print(li[1][::1])\n",
    "print(li[2][::1])\n",
    "#nested tuple\n"
   ]
  },
  {
   "cell_type": "code",
   "execution_count": 15,
   "id": "74cd9186",
   "metadata": {
    "execution": {
     "iopub.execute_input": "2025-01-24T18:23:03.853561Z",
     "iopub.status.busy": "2025-01-24T18:23:03.853186Z",
     "iopub.status.idle": "2025-01-24T18:23:03.859674Z",
     "shell.execute_reply": "2025-01-24T18:23:03.858315Z"
    },
    "papermill": {
     "duration": 0.015151,
     "end_time": "2025-01-24T18:23:03.861483",
     "exception": false,
     "start_time": "2025-01-24T18:23:03.846332",
     "status": "completed"
    },
    "tags": []
   },
   "outputs": [
    {
     "name": "stdout",
     "output_type": "stream",
     "text": [
      "[1]\n",
      "[1, 2, 3, 4]\n"
     ]
    }
   ],
   "source": [
    "list = [[1,2,3,4],[3,4,5],(3.1,4,\"hello\")]\n",
    "print(list[0][:1])\n",
    "print(list[0][::])"
   ]
  },
  {
   "cell_type": "code",
   "execution_count": 16,
   "id": "330b1852",
   "metadata": {
    "execution": {
     "iopub.execute_input": "2025-01-24T18:23:03.876293Z",
     "iopub.status.busy": "2025-01-24T18:23:03.875842Z",
     "iopub.status.idle": "2025-01-24T18:23:03.881682Z",
     "shell.execute_reply": "2025-01-24T18:23:03.880523Z"
    },
    "papermill": {
     "duration": 0.014992,
     "end_time": "2025-01-24T18:23:03.883975",
     "exception": false,
     "start_time": "2025-01-24T18:23:03.868983",
     "status": "completed"
    },
    "tags": []
   },
   "outputs": [
    {
     "name": "stdout",
     "output_type": "stream",
     "text": [
      "((1, 2, 3), ('a', 'b', 'c'), (True, False))\n",
      "(1, 2, 3)\n",
      "c\n"
     ]
    }
   ],
   "source": [
    "#nested tuples\n",
    "nested_tuple =((1,2,3),(\"a\",\"b\",\"c\"),(True,False))\n",
    "#access the elements inside a tuple\n",
    "print(nested_tuple)\n",
    "print(nested_tuple[0])\n",
    "print(nested_tuple[1][2])\n",
    "\n",
    "\n"
   ]
  },
  {
   "cell_type": "code",
   "execution_count": 17,
   "id": "49d942fd",
   "metadata": {
    "execution": {
     "iopub.execute_input": "2025-01-24T18:23:03.897047Z",
     "iopub.status.busy": "2025-01-24T18:23:03.896645Z",
     "iopub.status.idle": "2025-01-24T18:23:03.905429Z",
     "shell.execute_reply": "2025-01-24T18:23:03.904009Z"
    },
    "papermill": {
     "duration": 0.017316,
     "end_time": "2025-01-24T18:23:03.907361",
     "exception": false,
     "start_time": "2025-01-24T18:23:03.890045",
     "status": "completed"
    },
    "tags": []
   },
   "outputs": [
    {
     "name": "stdout",
     "output_type": "stream",
     "text": [
      "1 2 3 \n",
      "a b c \n",
      "True False \n"
     ]
    }
   ],
   "source": [
    "#iterating over nested tuples\n",
    "for sub_tuple in nested_tuple:\n",
    "    for item in sub_tuple:\n",
    "        print(item,end=\" \")\n",
    "\n",
    "    print()\n",
    "\n"
   ]
  },
  {
   "cell_type": "code",
   "execution_count": null,
   "id": "013f2352",
   "metadata": {
    "papermill": {
     "duration": 0.005567,
     "end_time": "2025-01-24T18:23:03.918894",
     "exception": false,
     "start_time": "2025-01-24T18:23:03.913327",
     "status": "completed"
    },
    "tags": []
   },
   "outputs": [],
   "source": []
  }
 ],
 "metadata": {
  "kaggle": {
   "accelerator": "none",
   "dataSources": [],
   "dockerImageVersionId": 30839,
   "isGpuEnabled": false,
   "isInternetEnabled": true,
   "language": "python",
   "sourceType": "notebook"
  },
  "kernelspec": {
   "display_name": "Python 3",
   "language": "python",
   "name": "python3"
  },
  "language_info": {
   "codemirror_mode": {
    "name": "ipython",
    "version": 3
   },
   "file_extension": ".py",
   "mimetype": "text/x-python",
   "name": "python",
   "nbconvert_exporter": "python",
   "pygments_lexer": "ipython3",
   "version": "3.10.12"
  },
  "papermill": {
   "default_parameters": {},
   "duration": 5.104637,
   "end_time": "2025-01-24T18:23:04.546405",
   "environment_variables": {},
   "exception": null,
   "input_path": "__notebook__.ipynb",
   "output_path": "__notebook__.ipynb",
   "parameters": {},
   "start_time": "2025-01-24T18:22:59.441768",
   "version": "2.6.0"
  }
 },
 "nbformat": 4,
 "nbformat_minor": 5
}
