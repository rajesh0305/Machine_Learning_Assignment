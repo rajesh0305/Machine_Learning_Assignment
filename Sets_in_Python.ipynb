{
  "metadata": {
    "kernelspec": {
      "display_name": "Python 3",
      "name": "python3"
    },
    "language_info": {
      "name": "python",
      "version": "3.10.12",
      "mimetype": "text/x-python",
      "codemirror_mode": {
        "name": "ipython",
        "version": 3
      },
      "pygments_lexer": "ipython3",
      "nbconvert_exporter": "python",
      "file_extension": ".py"
    },
    "kaggle": {
      "accelerator": "none",
      "dataSources": [],
      "dockerImageVersionId": 30839,
      "isInternetEnabled": true,
      "language": "python",
      "sourceType": "notebook",
      "isGpuEnabled": false
    },
    "colab": {
      "name": "Sets_in_Python",
      "provenance": [],
      "gpuType": "T4",
      "include_colab_link": true
    },
    "accelerator": "GPU"
  },
  "nbformat_minor": 0,
  "nbformat": 4,
  "cells": [
    {
      "cell_type": "markdown",
      "metadata": {
        "id": "view-in-github",
        "colab_type": "text"
      },
      "source": [
        "<a href=\"https://colab.research.google.com/github/rajesh0305/Machine_Learning_Assignment/blob/main/Sets_in_Python.ipynb\" target=\"_parent\"><img src=\"https://colab.research.google.com/assets/colab-badge.svg\" alt=\"Open In Colab\"/></a>"
      ]
    },
    {
      "cell_type": "code",
      "source": [
        "# This Python 3 environment comes with many helpful analytics libraries installed\n",
        "# It is defined by the kaggle/python Docker image: https://github.com/kaggle/docker-python\n",
        "# For example, here's several helpful packages to load\n",
        "\n",
        "import numpy as np # linear algebra\n",
        "import pandas as pd # data processing, CSV file I/O (e.g. pd.read_csv)\n",
        "\n",
        "# Input data files are available in the read-only \"../input/\" directory\n",
        "# For example, running this (by clicking run or pressing Shift+Enter) will list all files under the input directory\n",
        "\n",
        "import os\n",
        "for dirname, _, filenames in os.walk('/kaggle/input'):\n",
        "    for filename in filenames:\n",
        "        print(os.path.join(dirname, filename))\n",
        "\n",
        "# You can write up to 20GB to the current directory (/kaggle/working/) that gets preserved as output when you create a version using \"Save & Run All\"\n",
        "# You can also write temporary files to /kaggle/temp/, but they won't be saved outside of the current session"
      ],
      "metadata": {
        "_uuid": "8f2839f25d086af736a60e9eeb907d3b93b6e0e5",
        "_cell_guid": "b1076dfc-b9ad-4769-8c92-a6c4dae69d19",
        "trusted": true,
        "id": "KAv3V0ZNyEU_"
      },
      "outputs": [],
      "execution_count": 1
    },
    {
      "cell_type": "markdown",
      "source": [
        "# Sets\n",
        "\n",
        "Sets are a built in data type in the python used to store collections of uniques items. They are unordered, meaning that the elements do not follow a specific order , ans they do not allow duplicate elelments,sets are useful for the membership test,eliminating duplicate entries, and performing mathematical set operations like union,intersecton, difference ,and symmetric difference ."
      ],
      "metadata": {
        "id": "dSX3rl3hyEVI"
      }
    },
    {
      "cell_type": "code",
      "source": [
        "#crate the sets\n",
        "my_sets = {1,2,3,4,5}\n",
        "print(type(my_sets))\n",
        "print(my_sets)"
      ],
      "metadata": {
        "trusted": true,
        "execution": {
          "iopub.status.busy": "2025-01-24T18:49:49.368957Z",
          "iopub.execute_input": "2025-01-24T18:49:49.369298Z",
          "iopub.status.idle": "2025-01-24T18:49:49.374703Z",
          "shell.execute_reply.started": "2025-01-24T18:49:49.369266Z",
          "shell.execute_reply": "2025-01-24T18:49:49.373551Z"
        },
        "id": "3ySe8-XEyEVL",
        "outputId": "e51ef74e-b32e-40d0-e6c3-dc466b667b5f",
        "colab": {
          "base_uri": "https://localhost:8080/"
        }
      },
      "outputs": [
        {
          "output_type": "stream",
          "name": "stdout",
          "text": [
            "<class 'set'>\n",
            "{1, 2, 3, 4, 5}\n"
          ]
        }
      ],
      "execution_count": 2
    },
    {
      "cell_type": "code",
      "source": [
        "my_empty_sets = set()\n",
        "print(type(my_empty_sets))"
      ],
      "metadata": {
        "trusted": true,
        "execution": {
          "iopub.status.busy": "2025-01-24T18:50:36.012584Z",
          "iopub.execute_input": "2025-01-24T18:50:36.013009Z",
          "iopub.status.idle": "2025-01-24T18:50:36.018171Z",
          "shell.execute_reply.started": "2025-01-24T18:50:36.012983Z",
          "shell.execute_reply": "2025-01-24T18:50:36.017087Z"
        },
        "id": "hfIEuI7TyEVM",
        "outputId": "6761e854-21d3-46bb-f7aa-e09b8c72c35d",
        "colab": {
          "base_uri": "https://localhost:8080/"
        }
      },
      "outputs": [
        {
          "output_type": "stream",
          "name": "stdout",
          "text": [
            "<class 'set'>\n"
          ]
        }
      ],
      "execution_count": 3
    },
    {
      "cell_type": "code",
      "source": [
        "my_sets = set([1,2,3,4,5,1,2,3])\n",
        "print(type(my_sets))\n",
        "print(my_sets)"
      ],
      "metadata": {
        "trusted": true,
        "execution": {
          "iopub.status.busy": "2025-01-24T18:52:03.643729Z",
          "iopub.execute_input": "2025-01-24T18:52:03.64412Z",
          "iopub.status.idle": "2025-01-24T18:52:03.650226Z",
          "shell.execute_reply.started": "2025-01-24T18:52:03.644093Z",
          "shell.execute_reply": "2025-01-24T18:52:03.648988Z"
        },
        "id": "DQpENzPjyEVN",
        "outputId": "29bc3e05-116d-46a0-fc1f-980a21d58f62",
        "colab": {
          "base_uri": "https://localhost:8080/"
        }
      },
      "outputs": [
        {
          "output_type": "stream",
          "name": "stdout",
          "text": [
            "<class 'set'>\n",
            "{1, 2, 3, 4, 5}\n"
          ]
        }
      ],
      "execution_count": 4
    },
    {
      "cell_type": "code",
      "source": [
        "#basic sets operation\n",
        "#adding and removing the elements from the sets\n",
        "my_sets.add(6)\n",
        "print(my_sets)\n",
        "my_sets.add(6)\n",
        "print(my_sets)\n",
        "\n",
        "#remove the elements from the sets\n",
        "my_sets.remove(1)\n",
        "print(my_sets)"
      ],
      "metadata": {
        "trusted": true,
        "execution": {
          "iopub.status.busy": "2025-01-24T18:54:31.368479Z",
          "iopub.execute_input": "2025-01-24T18:54:31.368875Z",
          "iopub.status.idle": "2025-01-24T18:54:31.37645Z",
          "shell.execute_reply.started": "2025-01-24T18:54:31.368843Z",
          "shell.execute_reply": "2025-01-24T18:54:31.375123Z"
        },
        "id": "3zUZ7v8-yEVN",
        "outputId": "a1235791-d4fa-470f-ae81-65f5a19cc7a2",
        "colab": {
          "base_uri": "https://localhost:8080/"
        }
      },
      "outputs": [
        {
          "output_type": "stream",
          "name": "stdout",
          "text": [
            "{1, 2, 3, 4, 5, 6}\n",
            "{1, 2, 3, 4, 5, 6}\n",
            "{2, 3, 4, 5, 6}\n"
          ]
        }
      ],
      "execution_count": 5
    },
    {
      "cell_type": "code",
      "source": [
        "# my_sets.remove(10)\n"
      ],
      "metadata": {
        "trusted": true,
        "execution": {
          "iopub.status.busy": "2025-01-24T18:55:09.984149Z",
          "iopub.execute_input": "2025-01-24T18:55:09.984492Z",
          "iopub.status.idle": "2025-01-24T18:55:09.996441Z",
          "shell.execute_reply.started": "2025-01-24T18:55:09.984463Z",
          "shell.execute_reply": "2025-01-24T18:55:09.994838Z"
        },
        "id": "1NKbZYSnyEVO"
      },
      "outputs": [],
      "execution_count": 7
    },
    {
      "cell_type": "code",
      "source": [
        "my_sets.discard(11)"
      ],
      "metadata": {
        "trusted": true,
        "execution": {
          "iopub.status.busy": "2025-01-24T18:55:56.326414Z",
          "iopub.execute_input": "2025-01-24T18:55:56.326817Z",
          "iopub.status.idle": "2025-01-24T18:55:56.332019Z",
          "shell.execute_reply.started": "2025-01-24T18:55:56.326784Z",
          "shell.execute_reply": "2025-01-24T18:55:56.330527Z"
        },
        "id": "Y5rCsxkDyEVO"
      },
      "outputs": [],
      "execution_count": 8
    },
    {
      "cell_type": "code",
      "source": [
        "##pop() methods\n",
        "removed_elements =my_sets.pop()\n",
        "print(removed_elements)\n",
        "print(my_sets)"
      ],
      "metadata": {
        "trusted": true,
        "execution": {
          "iopub.status.busy": "2025-01-24T18:57:01.785551Z",
          "iopub.execute_input": "2025-01-24T18:57:01.785915Z",
          "iopub.status.idle": "2025-01-24T18:57:01.791506Z",
          "shell.execute_reply.started": "2025-01-24T18:57:01.785886Z",
          "shell.execute_reply": "2025-01-24T18:57:01.790243Z"
        },
        "id": "tPJ9J_kByEVP",
        "outputId": "7c1f5112-db94-411d-93f4-43e0ac41918c",
        "colab": {
          "base_uri": "https://localhost:8080/"
        }
      },
      "outputs": [
        {
          "output_type": "stream",
          "name": "stdout",
          "text": [
            "2\n",
            "{3, 4, 5, 6}\n"
          ]
        }
      ],
      "execution_count": 9
    },
    {
      "cell_type": "code",
      "source": [
        "## clear all the elements from the sets\n",
        "my_sets.clear()\n",
        "print(my_sets)"
      ],
      "metadata": {
        "trusted": true,
        "execution": {
          "iopub.status.busy": "2025-01-24T18:58:09.961673Z",
          "iopub.execute_input": "2025-01-24T18:58:09.962122Z",
          "iopub.status.idle": "2025-01-24T18:58:09.968813Z",
          "shell.execute_reply.started": "2025-01-24T18:58:09.962091Z",
          "shell.execute_reply": "2025-01-24T18:58:09.967186Z"
        },
        "id": "RgBcIMPqyEVP",
        "outputId": "0d503422-7c64-442e-9034-f7287bb1b244",
        "colab": {
          "base_uri": "https://localhost:8080/"
        }
      },
      "outputs": [
        {
          "output_type": "stream",
          "name": "stdout",
          "text": [
            "set()\n"
          ]
        }
      ],
      "execution_count": 10
    },
    {
      "cell_type": "code",
      "source": [
        "## sets Membership test\n",
        "my_set ={1,2,3,4,5,6,7,8}\n",
        "print(3 in my_set)\n",
        "print(10 in my_set)\n",
        "print(4 in my_set)\n",
        "print(5 in my_set)\n"
      ],
      "metadata": {
        "trusted": true,
        "execution": {
          "iopub.status.busy": "2025-01-24T19:00:07.385792Z",
          "iopub.execute_input": "2025-01-24T19:00:07.386143Z",
          "iopub.status.idle": "2025-01-24T19:00:07.392631Z",
          "shell.execute_reply.started": "2025-01-24T19:00:07.38612Z",
          "shell.execute_reply": "2025-01-24T19:00:07.391497Z"
        },
        "id": "MGGjD7-UyEVQ",
        "outputId": "253d9057-c48b-4596-c384-d67ef4293c5f",
        "colab": {
          "base_uri": "https://localhost:8080/"
        }
      },
      "outputs": [
        {
          "output_type": "stream",
          "name": "stdout",
          "text": [
            "True\n",
            "False\n",
            "True\n",
            "True\n"
          ]
        }
      ],
      "execution_count": 11
    },
    {
      "cell_type": "code",
      "source": [
        "#applying the mathematical operation in the sets\n",
        "set1 = {1,2,3,4,5,6}\n",
        "set2 ={4,5,6,7,8,9}\n",
        "print(set1)\n",
        "print(set2)\n",
        "\n",
        "##Union operation\n",
        "print(\"Union\")\n",
        "union_set =set1.union(set2)\n",
        "print(union_set)\n",
        "\n",
        "#intersection operation\n",
        "print(\"Intersection\")\n",
        "intersection_set = set1.intersection(set2)\n",
        "print(intersection_set)\n",
        "\n",
        "#doing the intersection and storing the intersection elements into the set1\n",
        "print(\"intersection_update\")\n",
        "set1.intersection_update(set2)\n",
        "print(set1)\n",
        "\n",
        "#difference operation\n",
        "print(\"difference opreration\")\n",
        "diff_set = set1.difference(set2)\n",
        "print(diff_set)"
      ],
      "metadata": {
        "trusted": true,
        "execution": {
          "iopub.status.busy": "2025-01-24T19:09:18.896586Z",
          "iopub.execute_input": "2025-01-24T19:09:18.896961Z",
          "iopub.status.idle": "2025-01-24T19:09:18.906029Z",
          "shell.execute_reply.started": "2025-01-24T19:09:18.896924Z",
          "shell.execute_reply": "2025-01-24T19:09:18.904871Z"
        },
        "id": "eHLXk425yEVR",
        "outputId": "f5446fe5-3ac5-4fef-da54-e892601c60e5",
        "colab": {
          "base_uri": "https://localhost:8080/"
        }
      },
      "outputs": [
        {
          "output_type": "stream",
          "name": "stdout",
          "text": [
            "{1, 2, 3, 4, 5, 6}\n",
            "{4, 5, 6, 7, 8, 9}\n",
            "Union\n",
            "{1, 2, 3, 4, 5, 6, 7, 8, 9}\n",
            "Intersection\n",
            "{4, 5, 6}\n",
            "intersection_update\n",
            "{4, 5, 6}\n",
            "difference opreration\n",
            "set()\n"
          ]
        }
      ],
      "execution_count": 12
    },
    {
      "cell_type": "code",
      "source": [
        "#symmetric difference\n",
        "set1 = {1,2,3,4,5,6}\n",
        "set2 ={2,3,4,5,6,7}\n",
        "print(\"symmetric difference\")\n",
        "print(set1.symmetric_difference(set2))\n",
        "\n"
      ],
      "metadata": {
        "trusted": true,
        "execution": {
          "iopub.status.busy": "2025-01-24T19:13:20.374641Z",
          "iopub.execute_input": "2025-01-24T19:13:20.375012Z",
          "iopub.status.idle": "2025-01-24T19:13:20.381443Z",
          "shell.execute_reply.started": "2025-01-24T19:13:20.374985Z",
          "shell.execute_reply": "2025-01-24T19:13:20.380146Z"
        },
        "id": "Zj3LGNi4yEVR",
        "outputId": "bfde86fc-4628-49da-eaa2-12514936329b",
        "colab": {
          "base_uri": "https://localhost:8080/"
        }
      },
      "outputs": [
        {
          "output_type": "stream",
          "name": "stdout",
          "text": [
            "symmetric difference\n",
            "{1, 7}\n"
          ]
        }
      ],
      "execution_count": 13
    },
    {
      "cell_type": "code",
      "source": [
        "#sets Methods\n",
        "set1 = {1,2,3}\n",
        "set2 ={3,4,5}\n",
        "\n",
        "## is subset & is superset\n",
        "print(\"checking the subset:\",set1.issubset(set2))\n",
        "print(\"checking the superset:\",set1.issuperset(set2))"
      ],
      "metadata": {
        "trusted": true,
        "execution": {
          "iopub.status.busy": "2025-01-24T19:16:17.99221Z",
          "iopub.execute_input": "2025-01-24T19:16:17.992565Z",
          "iopub.status.idle": "2025-01-24T19:16:17.999243Z",
          "shell.execute_reply.started": "2025-01-24T19:16:17.992533Z",
          "shell.execute_reply": "2025-01-24T19:16:17.998256Z"
        },
        "id": "Y5VsIxDsyEVS",
        "outputId": "c35b834d-d615-4b97-86f9-6c92ed5e0e38",
        "colab": {
          "base_uri": "https://localhost:8080/"
        }
      },
      "outputs": [
        {
          "output_type": "stream",
          "name": "stdout",
          "text": [
            "checking the subset: False\n",
            "checking the superset: False\n"
          ]
        }
      ],
      "execution_count": 14
    },
    {
      "cell_type": "code",
      "source": [
        "list =[12,4,5,6,33,55,22,22,12,2,4,5]\n",
        "\n",
        "#our task to remove the duplicate elements from the list\n",
        "lt =set(list)\n",
        "print(lt)"
      ],
      "metadata": {
        "trusted": true,
        "execution": {
          "iopub.status.busy": "2025-01-24T19:18:46.49664Z",
          "iopub.execute_input": "2025-01-24T19:18:46.497113Z",
          "iopub.status.idle": "2025-01-24T19:18:46.502655Z",
          "shell.execute_reply.started": "2025-01-24T19:18:46.497082Z",
          "shell.execute_reply": "2025-01-24T19:18:46.501619Z"
        },
        "id": "KQxJznGNyEVS",
        "outputId": "bac09990-09bf-420b-d871-49bfeeadb70d",
        "colab": {
          "base_uri": "https://localhost:8080/"
        }
      },
      "outputs": [
        {
          "output_type": "stream",
          "name": "stdout",
          "text": [
            "{33, 2, 4, 5, 6, 12, 22, 55}\n"
          ]
        }
      ],
      "execution_count": 15
    },
    {
      "cell_type": "code",
      "source": [
        "#counting unique word in the sentence\n",
        "test = \"in this tutorials we are discissing about sets\"\n",
        "words =test.split()\n",
        "print(words)\n",
        "\n",
        "##now converting the list of words to the set to the unique words\n",
        "unique_words =set(words)\n",
        "print(unique_words)\n",
        "print(len(unique_words))"
      ],
      "metadata": {
        "trusted": true,
        "execution": {
          "iopub.status.busy": "2025-01-24T19:21:37.884948Z",
          "iopub.execute_input": "2025-01-24T19:21:37.885292Z",
          "iopub.status.idle": "2025-01-24T19:21:37.891204Z",
          "shell.execute_reply.started": "2025-01-24T19:21:37.885264Z",
          "shell.execute_reply": "2025-01-24T19:21:37.890087Z"
        },
        "id": "Ws0rSxvNyEVT",
        "outputId": "d6ffe849-96b7-4f61-a888-e5352a439341",
        "colab": {
          "base_uri": "https://localhost:8080/"
        }
      },
      "outputs": [
        {
          "output_type": "stream",
          "name": "stdout",
          "text": [
            "['in', 'this', 'tutorials', 'we', 'are', 'discissing', 'about', 'sets']\n",
            "{'in', 'we', 'about', 'are', 'tutorials', 'this', 'sets', 'discissing'}\n",
            "8\n"
          ]
        }
      ],
      "execution_count": 16
    },
    {
      "cell_type": "code",
      "source": [],
      "metadata": {
        "trusted": true,
        "id": "JTfa_hpnyEVT"
      },
      "outputs": [],
      "execution_count": 16
    }
  ]
}